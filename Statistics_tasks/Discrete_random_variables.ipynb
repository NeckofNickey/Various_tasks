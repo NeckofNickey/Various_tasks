{
 "cells": [
  {
   "cell_type": "code",
   "execution_count": 439,
   "id": "4436bdae",
   "metadata": {},
   "outputs": [],
   "source": [
    "import pandas as pd\n",
    "import numpy as np\n",
    "\n",
    "from tkinter import filedialog as fd\n",
    "from tkinter import Tk, BOTH\n",
    "\n",
    "from datetime import datetime\n",
    "from datetime import timedelta\n",
    "\n",
    "from scipy import stats\n",
    "from sympy import *\n",
    "\n",
    "import seaborn as sns\n",
    "import matplotlib.pyplot as plt\n",
    "\n",
    "\n",
    "pd.options.display.float_format = '{:,.3f}'.format\n",
    "\n",
    "import warnings\n",
    "warnings.filterwarnings(\"ignore\")\n",
    "\n",
    "from typing import Tuple\n",
    "\n",
    "%matplotlib inline"
   ]
  },
  {
   "cell_type": "markdown",
   "id": "095e3eb1",
   "metadata": {},
   "source": [
    "## Задача 1. \n",
    "Дискретная случайная величина задана рядом распределения:\n",
    "\n",
    "\n",
    "| 1 | 2 | 3 | 4 | 5 | 6 | 7 |\n",
    "| --- | --- | --- | --- | --- | --- | --- | \n",
    "| 0.05 | 0.15 | 0.3 | 0.2 | 0.1 | 0.04 | 0.16\n",
    "\n",
    "Построить многоугольник распределения и функцию распределения $F(x)$. Вычислить: $M[X],D[X],σ[X]$, а также коэффициент вариации, асимметрии, эксцесса, моду и медиану."
   ]
  },
  {
   "cell_type": "code",
   "execution_count": 3,
   "id": "361cb318",
   "metadata": {},
   "outputs": [],
   "source": [
    "df = pd.DataFrame({'val':np.arange(1, 8),\n",
    "                  'prob':np.array([0.05, 0.15, 0.3, 0.2, 0.1, 0.04, 0.16])})"
   ]
  },
  {
   "cell_type": "code",
   "execution_count": 4,
   "id": "60702d02",
   "metadata": {},
   "outputs": [
    {
     "data": {
      "text/html": [
       "<div>\n",
       "<style scoped>\n",
       "    .dataframe tbody tr th:only-of-type {\n",
       "        vertical-align: middle;\n",
       "    }\n",
       "\n",
       "    .dataframe tbody tr th {\n",
       "        vertical-align: top;\n",
       "    }\n",
       "\n",
       "    .dataframe thead th {\n",
       "        text-align: right;\n",
       "    }\n",
       "</style>\n",
       "<table border=\"1\" class=\"dataframe\">\n",
       "  <thead>\n",
       "    <tr style=\"text-align: right;\">\n",
       "      <th></th>\n",
       "      <th>val</th>\n",
       "      <th>prob</th>\n",
       "    </tr>\n",
       "  </thead>\n",
       "  <tbody>\n",
       "    <tr>\n",
       "      <th>0</th>\n",
       "      <td>1</td>\n",
       "      <td>0.050</td>\n",
       "    </tr>\n",
       "    <tr>\n",
       "      <th>1</th>\n",
       "      <td>2</td>\n",
       "      <td>0.150</td>\n",
       "    </tr>\n",
       "    <tr>\n",
       "      <th>2</th>\n",
       "      <td>3</td>\n",
       "      <td>0.300</td>\n",
       "    </tr>\n",
       "    <tr>\n",
       "      <th>3</th>\n",
       "      <td>4</td>\n",
       "      <td>0.200</td>\n",
       "    </tr>\n",
       "    <tr>\n",
       "      <th>4</th>\n",
       "      <td>5</td>\n",
       "      <td>0.100</td>\n",
       "    </tr>\n",
       "    <tr>\n",
       "      <th>5</th>\n",
       "      <td>6</td>\n",
       "      <td>0.040</td>\n",
       "    </tr>\n",
       "    <tr>\n",
       "      <th>6</th>\n",
       "      <td>7</td>\n",
       "      <td>0.160</td>\n",
       "    </tr>\n",
       "  </tbody>\n",
       "</table>\n",
       "</div>"
      ],
      "text/plain": [
       "   val  prob\n",
       "0    1 0.050\n",
       "1    2 0.150\n",
       "2    3 0.300\n",
       "3    4 0.200\n",
       "4    5 0.100\n",
       "5    6 0.040\n",
       "6    7 0.160"
      ]
     },
     "execution_count": 4,
     "metadata": {},
     "output_type": "execute_result"
    }
   ],
   "source": [
    "df"
   ]
  },
  {
   "cell_type": "markdown",
   "id": "5b3b807b",
   "metadata": {},
   "source": [
    "#### Многоугольник распределения"
   ]
  },
  {
   "cell_type": "code",
   "execution_count": 5,
   "id": "f00b9ac8",
   "metadata": {},
   "outputs": [
    {
     "data": {
      "text/plain": [
       "<AxesSubplot:xlabel='val'>"
      ]
     },
     "execution_count": 5,
     "metadata": {},
     "output_type": "execute_result"
    },
    {
     "data": {
      "image/png": "[encoded data removed]",
      "text/plain": [
       "<Figure size 432x288 with 1 Axes>"
      ]
     },
     "metadata": {
      "needs_background": "light"
     },
     "output_type": "display_data"
    }
   ],
   "source": [
    "df.plot(x='val', y='prob')"
   ]
  },
  {
   "cell_type": "markdown",
   "id": "e43a3b8d",
   "metadata": {},
   "source": [
    "#### Функция распределения F(x)"
   ]
  },
  {
   "cell_type": "code",
   "execution_count": 6,
   "id": "cadd4885",
   "metadata": {},
   "outputs": [
    {
     "data": {
      "text/html": [
       "<div>\n",
       "<style scoped>\n",
       "    .dataframe tbody tr th:only-of-type {\n",
       "        vertical-align: middle;\n",
       "    }\n",
       "\n",
       "    .dataframe tbody tr th {\n",
       "        vertical-align: top;\n",
       "    }\n",
       "\n",
       "    .dataframe thead th {\n",
       "        text-align: right;\n",
       "    }\n",
       "</style>\n",
       "<table border=\"1\" class=\"dataframe\">\n",
       "  <thead>\n",
       "    <tr style=\"text-align: right;\">\n",
       "      <th></th>\n",
       "      <th>val</th>\n",
       "      <th>prob</th>\n",
       "      <th>cumulative</th>\n",
       "    </tr>\n",
       "  </thead>\n",
       "  <tbody>\n",
       "    <tr>\n",
       "      <th>0</th>\n",
       "      <td>1</td>\n",
       "      <td>0.050</td>\n",
       "      <td>0.050</td>\n",
       "    </tr>\n",
       "    <tr>\n",
       "      <th>1</th>\n",
       "      <td>2</td>\n",
       "      <td>0.150</td>\n",
       "      <td>0.200</td>\n",
       "    </tr>\n",
       "    <tr>\n",
       "      <th>2</th>\n",
       "      <td>3</td>\n",
       "      <td>0.300</td>\n",
       "      <td>0.500</td>\n",
       "    </tr>\n",
       "    <tr>\n",
       "      <th>3</th>\n",
       "      <td>4</td>\n",
       "      <td>0.200</td>\n",
       "      <td>0.700</td>\n",
       "    </tr>\n",
       "    <tr>\n",
       "      <th>4</th>\n",
       "      <td>5</td>\n",
       "      <td>0.100</td>\n",
       "      <td>0.800</td>\n",
       "    </tr>\n",
       "    <tr>\n",
       "      <th>5</th>\n",
       "      <td>6</td>\n",
       "      <td>0.040</td>\n",
       "      <td>0.840</td>\n",
       "    </tr>\n",
       "    <tr>\n",
       "      <th>6</th>\n",
       "      <td>7</td>\n",
       "      <td>0.160</td>\n",
       "      <td>1.000</td>\n",
       "    </tr>\n",
       "  </tbody>\n",
       "</table>\n",
       "</div>"
      ],
      "text/plain": [
       "   val  prob  cumulative\n",
       "0    1 0.050       0.050\n",
       "1    2 0.150       0.200\n",
       "2    3 0.300       0.500\n",
       "3    4 0.200       0.700\n",
       "4    5 0.100       0.800\n",
       "5    6 0.040       0.840\n",
       "6    7 0.160       1.000"
      ]
     },
     "execution_count": 6,
     "metadata": {},
     "output_type": "execute_result"
    }
   ],
   "source": [
    "df['cumulative'] = np.cumsum(df['prob'])\n",
    "\n",
    "df"
   ]
  },
  {
   "cell_type": "code",
   "execution_count": 7,
   "id": "47cc83ba",
   "metadata": {},
   "outputs": [
    {
     "data": {
      "text/plain": [
       "<AxesSubplot:xlabel='val', ylabel='Proportion'>"
      ]
     },
     "execution_count": 7,
     "metadata": {},
     "output_type": "execute_result"
    },
    {
     "data": {
      "image/png": "[encoded data removed]",
      "text/plain": [
       "<Figure size 432x288 with 1 Axes>"
      ]
     },
     "metadata": {
      "needs_background": "light"
     },
     "output_type": "display_data"
    }
   ],
   "source": [
    "sns.ecdfplot(data=df,  x='val', weights='prob')"
   ]
  },
  {
   "cell_type": "markdown",
   "id": "be22772e",
   "metadata": {},
   "source": [
    "#### Подсчет базовых статистик"
   ]
  },
  {
   "cell_type": "markdown",
   "id": "4b22bfe6",
   "metadata": {},
   "source": [
    "#### Пользовательские функции"
   ]
  },
  {
   "cell_type": "code",
   "execution_count": 8,
   "id": "a0f72d5c",
   "metadata": {},
   "outputs": [],
   "source": [
    "\n",
    "def calc_variance(val:np.array, prob:np.array, mean:float) -> float:\n",
    "    temp = ((val - mean)**2)*prob\n",
    "    return temp.sum()\n",
    "\n",
    "def calc_screw(val:np.array, prob:np.array, mean:float, std:float) -> float:\n",
    "    temp = ((val - mean)**3)*prob\n",
    "    screw = temp.sum()/std**3\n",
    "    return screw\n",
    "\n",
    "def calc_kurtosis(val:np.array, prob:np.array, mean:float, std:float) -> float:\n",
    "    temp = ((val - mean)**4)*prob\n",
    "    kurtosis = (temp.sum()/std**4) - 3\n",
    "    return kurtosis\n",
    "\n",
    "def calc_mode(val:np.array, prob:np.array) -> int:\n",
    "    index = np.where(np.isclose(prob, prob.max()))[0][0]\n",
    "    return val[index]\n",
    "\n",
    "def calc_coef_var(mean:float, std:float) -> float:\n",
    "    return std/mean*100"
   ]
  },
  {
   "cell_type": "code",
   "execution_count": 9,
   "id": "ae031385",
   "metadata": {},
   "outputs": [],
   "source": [
    "mean = np.average(df['val'], weights=df['prob'])\n",
    "\n",
    "var = calc_variance(df['val'], df['prob'], mean)\n",
    "\n",
    "std = np.sqrt(var) \n",
    "\n",
    "screw = calc_screw(df['val'], df['prob'], mean, std)\n",
    "\n",
    "kurtosis = calc_kurtosis(df['val'], df['prob'], mean, std)\n",
    "\n",
    "mode = calc_mode(df['val'], df['prob'])\n",
    "\n",
    "median = np.median(df['val'])\n",
    "\n",
    "coef_var = calc_coef_var(mean, std)"
   ]
  },
  {
   "cell_type": "code",
   "execution_count": 10,
   "id": "91ace570",
   "metadata": {},
   "outputs": [
    {
     "data": {
      "text/html": [
       "<div>\n",
       "<style scoped>\n",
       "    .dataframe tbody tr th:only-of-type {\n",
       "        vertical-align: middle;\n",
       "    }\n",
       "\n",
       "    .dataframe tbody tr th {\n",
       "        vertical-align: top;\n",
       "    }\n",
       "\n",
       "    .dataframe thead th {\n",
       "        text-align: right;\n",
       "    }\n",
       "</style>\n",
       "<table border=\"1\" class=\"dataframe\">\n",
       "  <thead>\n",
       "    <tr style=\"text-align: right;\">\n",
       "      <th></th>\n",
       "      <th>mean</th>\n",
       "      <th>var</th>\n",
       "      <th>std</th>\n",
       "      <th>screw</th>\n",
       "      <th>kurtosis</th>\n",
       "      <th>mode</th>\n",
       "      <th>median</th>\n",
       "      <th>coef_var</th>\n",
       "    </tr>\n",
       "  </thead>\n",
       "  <tbody>\n",
       "    <tr>\n",
       "      <th>0</th>\n",
       "      <td>3.910</td>\n",
       "      <td>3.042</td>\n",
       "      <td>1.744</td>\n",
       "      <td>0.511</td>\n",
       "      <td>-0.700</td>\n",
       "      <td>3</td>\n",
       "      <td>4.000</td>\n",
       "      <td>44.606</td>\n",
       "    </tr>\n",
       "  </tbody>\n",
       "</table>\n",
       "</div>"
      ],
      "text/plain": [
       "   mean   var   std  screw  kurtosis  mode  median  coef_var\n",
       "0 3.910 3.042 1.744  0.511    -0.700     3   4.000    44.606"
      ]
     },
     "execution_count": 10,
     "metadata": {},
     "output_type": "execute_result"
    }
   ],
   "source": [
    "pd.DataFrame(data=[[mean, var, std, screw, kurtosis, mode, median, coef_var]], \n",
    "             columns=['mean',' var', 'std', 'screw', 'kurtosis', 'mode', 'median', 'coef_var'])"
   ]
  },
  {
   "cell_type": "markdown",
   "id": "f9102f0b",
   "metadata": {},
   "source": [
    "#### Методы из пакета stats"
   ]
  },
  {
   "cell_type": "code",
   "execution_count": 19,
   "id": "2341a3c8",
   "metadata": {},
   "outputs": [
    {
     "data": {
      "image/png": "[encoded data removed]",
      "text/plain": [
       "<Figure size 432x288 with 1 Axes>"
      ]
     },
     "metadata": {
      "needs_background": "light"
     },
     "output_type": "display_data"
    }
   ],
   "source": [
    "xk = df['val']\n",
    "pk = df['prob']\n",
    "custm_dist = stats.rv_discrete(name='cust_dist', values=(xk, pk))\n",
    "\n",
    "fig, ax = plt.subplots(1, 1)\n",
    "ax.plot(xk, custm_dist.pmf(xk))\n",
    "\n",
    "plt.show()"
   ]
  },
  {
   "cell_type": "code",
   "execution_count": 66,
   "id": "635fc80d",
   "metadata": {},
   "outputs": [
    {
     "data": {
      "text/html": [
       "<div>\n",
       "<style scoped>\n",
       "    .dataframe tbody tr th:only-of-type {\n",
       "        vertical-align: middle;\n",
       "    }\n",
       "\n",
       "    .dataframe tbody tr th {\n",
       "        vertical-align: top;\n",
       "    }\n",
       "\n",
       "    .dataframe thead th {\n",
       "        text-align: right;\n",
       "    }\n",
       "</style>\n",
       "<table border=\"1\" class=\"dataframe\">\n",
       "  <thead>\n",
       "    <tr style=\"text-align: right;\">\n",
       "      <th></th>\n",
       "      <th>mean</th>\n",
       "      <th>var</th>\n",
       "      <th>std</th>\n",
       "    </tr>\n",
       "  </thead>\n",
       "  <tbody>\n",
       "    <tr>\n",
       "      <th>0</th>\n",
       "      <td>3.910</td>\n",
       "      <td>3.042</td>\n",
       "      <td>1.744</td>\n",
       "    </tr>\n",
       "  </tbody>\n",
       "</table>\n",
       "</div>"
      ],
      "text/plain": [
       "   mean   var   std\n",
       "0 3.910 3.042 1.744"
      ]
     },
     "execution_count": 66,
     "metadata": {},
     "output_type": "execute_result"
    }
   ],
   "source": [
    "mean = custm_dist.mean()\n",
    "\n",
    "var = custm_dist.var()\n",
    "\n",
    "std = custm_dist.std()\n",
    "\n",
    "\n",
    "pd.DataFrame(data=[[mean, var, std]], \n",
    "             columns=['mean',' var', 'std'])"
   ]
  },
  {
   "cell_type": "markdown",
   "id": "fc5a4700",
   "metadata": {},
   "source": [
    "## Задача 2. \n",
    "Для случайной величины $Х$ с данным рядом распределения\n",
    "\n",
    "| -1 | 0  | 1 | 8 |\n",
    "| --- | --- | --- | --- |\n",
    "| 0,2 | 0,1 | р1 | р2 |\n",
    "\n",
    "А) найдите $р1$ и $р2$ так, чтобы $М(Х)=0,5$\n",
    "\n",
    "Б) после этого вычислите математическое ожидание и дисперсию случайной величины $Х$ и постройте график ее функции распределения"
   ]
  },
  {
   "cell_type": "markdown",
   "id": "67a59a78",
   "metadata": {},
   "source": [
    "#### Находим р1 и р2 так, чтобы М(Х)=0,5"
   ]
  },
  {
   "cell_type": "code",
   "execution_count": 32,
   "id": "4e29e8b6",
   "metadata": {},
   "outputs": [],
   "source": [
    "mean = 0.5\n",
    "\n",
    "p_1, p_2 = symbols('p_1 p_2')\n",
    "\n",
    "df = pd.DataFrame({'val':np.array([-1, 0, 1, 8]),\n",
    "                  'prob':np.array([0.2, 0.1, p_1, p_2])})"
   ]
  },
  {
   "cell_type": "code",
   "execution_count": 33,
   "id": "66b1de14",
   "metadata": {},
   "outputs": [],
   "source": [
    "def find_miss_prob(val:np.array, prob:np.array, mean:float, *args) -> Tuple[float, float]:\n",
    "    a = Eq((val * prob).sum(), mean)\n",
    "    b = Eq(prob.sum(), 1)\n",
    "    return linsolve((a, b), (args)).args[0]\n",
    "    "
   ]
  },
  {
   "cell_type": "code",
   "execution_count": 34,
   "id": "e3a072f1",
   "metadata": {},
   "outputs": [],
   "source": [
    "p_1, p_2 = find_miss_prob(df['val'], df['prob'], 0.5, p_1, p_2)"
   ]
  },
  {
   "cell_type": "code",
   "execution_count": 35,
   "id": "ba450de1",
   "metadata": {},
   "outputs": [],
   "source": [
    "df.loc[df['prob']==symbols('p_1'), 'prob'] = float(p_1)\n",
    "df.loc[df['prob']==symbols('p_2'), 'prob'] = float(p_2)"
   ]
  },
  {
   "cell_type": "code",
   "execution_count": 36,
   "id": "988a3a69",
   "metadata": {},
   "outputs": [
    {
     "data": {
      "text/html": [
       "<div>\n",
       "<style scoped>\n",
       "    .dataframe tbody tr th:only-of-type {\n",
       "        vertical-align: middle;\n",
       "    }\n",
       "\n",
       "    .dataframe tbody tr th {\n",
       "        vertical-align: top;\n",
       "    }\n",
       "\n",
       "    .dataframe thead th {\n",
       "        text-align: right;\n",
       "    }\n",
       "</style>\n",
       "<table border=\"1\" class=\"dataframe\">\n",
       "  <thead>\n",
       "    <tr style=\"text-align: right;\">\n",
       "      <th></th>\n",
       "      <th>val</th>\n",
       "      <th>prob</th>\n",
       "    </tr>\n",
       "  </thead>\n",
       "  <tbody>\n",
       "    <tr>\n",
       "      <th>0</th>\n",
       "      <td>-1</td>\n",
       "      <td>0.200</td>\n",
       "    </tr>\n",
       "    <tr>\n",
       "      <th>1</th>\n",
       "      <td>0</td>\n",
       "      <td>0.100</td>\n",
       "    </tr>\n",
       "    <tr>\n",
       "      <th>2</th>\n",
       "      <td>1</td>\n",
       "      <td>0.700</td>\n",
       "    </tr>\n",
       "    <tr>\n",
       "      <th>3</th>\n",
       "      <td>8</td>\n",
       "      <td>0.000</td>\n",
       "    </tr>\n",
       "  </tbody>\n",
       "</table>\n",
       "</div>"
      ],
      "text/plain": [
       "   val  prob\n",
       "0   -1 0.200\n",
       "1    0 0.100\n",
       "2    1 0.700\n",
       "3    8 0.000"
      ]
     },
     "execution_count": 36,
     "metadata": {},
     "output_type": "execute_result"
    }
   ],
   "source": [
    "df"
   ]
  },
  {
   "cell_type": "markdown",
   "id": "b50ed756",
   "metadata": {},
   "source": [
    "#### Вычисляем математическое ожидание и дисперсию случайной величины Х и строим график ее функции распределения"
   ]
  },
  {
   "cell_type": "code",
   "execution_count": 37,
   "id": "c1a09a1d",
   "metadata": {},
   "outputs": [],
   "source": [
    "mean = np.average(df['val'], weights=df['prob'])\n",
    "\n",
    "var = calc_variance(df['val'], df['prob'], mean)"
   ]
  },
  {
   "cell_type": "code",
   "execution_count": 38,
   "id": "ec522b66",
   "metadata": {},
   "outputs": [
    {
     "data": {
      "text/html": [
       "<div>\n",
       "<style scoped>\n",
       "    .dataframe tbody tr th:only-of-type {\n",
       "        vertical-align: middle;\n",
       "    }\n",
       "\n",
       "    .dataframe tbody tr th {\n",
       "        vertical-align: top;\n",
       "    }\n",
       "\n",
       "    .dataframe thead th {\n",
       "        text-align: right;\n",
       "    }\n",
       "</style>\n",
       "<table border=\"1\" class=\"dataframe\">\n",
       "  <thead>\n",
       "    <tr style=\"text-align: right;\">\n",
       "      <th></th>\n",
       "      <th>mean</th>\n",
       "      <th>var</th>\n",
       "    </tr>\n",
       "  </thead>\n",
       "  <tbody>\n",
       "    <tr>\n",
       "      <th>0</th>\n",
       "      <td>0.500</td>\n",
       "      <td>0.650</td>\n",
       "    </tr>\n",
       "  </tbody>\n",
       "</table>\n",
       "</div>"
      ],
      "text/plain": [
       "   mean   var\n",
       "0 0.500 0.650"
      ]
     },
     "execution_count": 38,
     "metadata": {},
     "output_type": "execute_result"
    }
   ],
   "source": [
    "pd.DataFrame(data=[[mean, var]], \n",
    "             columns=['mean',' var'])"
   ]
  },
  {
   "cell_type": "code",
   "execution_count": 39,
   "id": "c826dc20",
   "metadata": {},
   "outputs": [
    {
     "data": {
      "text/html": [
       "<div>\n",
       "<style scoped>\n",
       "    .dataframe tbody tr th:only-of-type {\n",
       "        vertical-align: middle;\n",
       "    }\n",
       "\n",
       "    .dataframe tbody tr th {\n",
       "        vertical-align: top;\n",
       "    }\n",
       "\n",
       "    .dataframe thead th {\n",
       "        text-align: right;\n",
       "    }\n",
       "</style>\n",
       "<table border=\"1\" class=\"dataframe\">\n",
       "  <thead>\n",
       "    <tr style=\"text-align: right;\">\n",
       "      <th></th>\n",
       "      <th>val</th>\n",
       "      <th>prob</th>\n",
       "      <th>cumulative</th>\n",
       "    </tr>\n",
       "  </thead>\n",
       "  <tbody>\n",
       "    <tr>\n",
       "      <th>0</th>\n",
       "      <td>-1</td>\n",
       "      <td>0.200</td>\n",
       "      <td>0.200</td>\n",
       "    </tr>\n",
       "    <tr>\n",
       "      <th>1</th>\n",
       "      <td>0</td>\n",
       "      <td>0.100</td>\n",
       "      <td>0.300</td>\n",
       "    </tr>\n",
       "    <tr>\n",
       "      <th>2</th>\n",
       "      <td>1</td>\n",
       "      <td>0.700</td>\n",
       "      <td>1.000</td>\n",
       "    </tr>\n",
       "    <tr>\n",
       "      <th>3</th>\n",
       "      <td>8</td>\n",
       "      <td>0.000</td>\n",
       "      <td>1.000</td>\n",
       "    </tr>\n",
       "  </tbody>\n",
       "</table>\n",
       "</div>"
      ],
      "text/plain": [
       "   val  prob cumulative\n",
       "0   -1 0.200      0.200\n",
       "1    0 0.100      0.300\n",
       "2    1 0.700      1.000\n",
       "3    8 0.000      1.000"
      ]
     },
     "execution_count": 39,
     "metadata": {},
     "output_type": "execute_result"
    }
   ],
   "source": [
    "df['cumulative'] = np.cumsum(df['prob'])\n",
    "df"
   ]
  },
  {
   "cell_type": "code",
   "execution_count": 40,
   "id": "aa91df95",
   "metadata": {},
   "outputs": [
    {
     "data": {
      "text/plain": [
       "[Text(-1, 0, '-1'), Text(0, 0, '0'), Text(1, 0, '1'), Text(8, 0, '8')]"
      ]
     },
     "execution_count": 40,
     "metadata": {},
     "output_type": "execute_result"
    },
    {
     "data": {
      "image/png": "[encoded data removed]",
      "text/plain": [
       "<Figure size 432x288 with 1 Axes>"
      ]
     },
     "metadata": {
      "needs_background": "light"
     },
     "output_type": "display_data"
    }
   ],
   "source": [
    "g = sns.ecdfplot(data=df,  x='val', weights='prob')\n",
    "g.set_xticks(df['val']) \n",
    "g.set_xticklabels(df['val'])"
   ]
  },
  {
   "cell_type": "markdown",
   "id": "6c6cb851",
   "metadata": {},
   "source": [
    "## Задача 3\n",
    "Задача. Дискретная СВ $X$ может принимать только два значения: $x_1$ и $x_2$, причем $x_1$ < $x_2$.\n",
    "Известны вероятность $P$ возможного значения, математическое ожидание $M(x)$ и дисперсия $D(x)$. \n",
    "\n",
    "Найти: \n",
    "1) Закон распределения этой случайной величины; \n",
    "\n",
    "2) Функцию распределения СВ $X$; \n",
    "\n",
    "3) Построить график $F(x)$.\n",
    "\n",
    "$P = 0,3; \n",
    "M(x) = 6,6; \n",
    "D(x) = 13,44.$ "
   ]
  },
  {
   "cell_type": "markdown",
   "id": "fd146eac",
   "metadata": {},
   "source": [
    "#### 1) Закон распределения этой случайной величины"
   ]
  },
  {
   "cell_type": "code",
   "execution_count": 41,
   "id": "b1d89002",
   "metadata": {},
   "outputs": [],
   "source": [
    "mean = 6.6\n",
    "var = 13.44\n",
    "P = 0.3\n",
    "\n",
    "\n",
    "x_1, x_2 = symbols('x_1 x_2')\n",
    "\n",
    "df = pd.DataFrame({'val':np.array([x_1, x_2]),\n",
    "                  'prob':np.array([P, 1-P])})"
   ]
  },
  {
   "cell_type": "code",
   "execution_count": 42,
   "id": "6f07d2b7",
   "metadata": {},
   "outputs": [
    {
     "data": {
      "text/html": [
       "<div>\n",
       "<style scoped>\n",
       "    .dataframe tbody tr th:only-of-type {\n",
       "        vertical-align: middle;\n",
       "    }\n",
       "\n",
       "    .dataframe tbody tr th {\n",
       "        vertical-align: top;\n",
       "    }\n",
       "\n",
       "    .dataframe thead th {\n",
       "        text-align: right;\n",
       "    }\n",
       "</style>\n",
       "<table border=\"1\" class=\"dataframe\">\n",
       "  <thead>\n",
       "    <tr style=\"text-align: right;\">\n",
       "      <th></th>\n",
       "      <th>val</th>\n",
       "      <th>prob</th>\n",
       "    </tr>\n",
       "  </thead>\n",
       "  <tbody>\n",
       "    <tr>\n",
       "      <th>0</th>\n",
       "      <td>x_1</td>\n",
       "      <td>0.300</td>\n",
       "    </tr>\n",
       "    <tr>\n",
       "      <th>1</th>\n",
       "      <td>x_2</td>\n",
       "      <td>0.700</td>\n",
       "    </tr>\n",
       "  </tbody>\n",
       "</table>\n",
       "</div>"
      ],
      "text/plain": [
       "   val  prob\n",
       "0  x_1 0.300\n",
       "1  x_2 0.700"
      ]
     },
     "execution_count": 42,
     "metadata": {},
     "output_type": "execute_result"
    }
   ],
   "source": [
    "df"
   ]
  },
  {
   "cell_type": "code",
   "execution_count": 43,
   "id": "eb702bb6",
   "metadata": {},
   "outputs": [],
   "source": [
    "def calc_miss_val(val:np.array, prob:np.array, mean:float, var:float, *args) -> Tuple[float, float]:\n",
    "    a = simplify(Eq((val * prob).sum(), mean))\n",
    "    b = Eq((((df['val']-mean)**2)*df['prob']).sum(), var)\n",
    "    return nonlinsolve((a, b), (args))"
   ]
  },
  {
   "cell_type": "code",
   "execution_count": 44,
   "id": "c1106862",
   "metadata": {},
   "outputs": [
    {
     "data": {
      "text/latex": [
       "$\\displaystyle \\left\\{\\left( 1.0, \\  9.0\\right), \\left( 12.2, \\  4.2\\right)\\right\\}$"
      ],
      "text/plain": [
       "{(1.0, 9.0), (12.2, 4.2)}"
      ]
     },
     "execution_count": 44,
     "metadata": {},
     "output_type": "execute_result"
    }
   ],
   "source": [
    "answer = calc_miss_val(df['val'], df['prob'], mean, var, x_1, x_2)\n",
    "\n",
    "answer"
   ]
  },
  {
   "cell_type": "markdown",
   "id": "e9efb3d3",
   "metadata": {},
   "source": [
    "Условию $x_1$ < $x_2$ удовлетворяет только один ответ"
   ]
  },
  {
   "cell_type": "code",
   "execution_count": 45,
   "id": "e1565003",
   "metadata": {},
   "outputs": [],
   "source": [
    "x_1, x_2 = [float(x) for x in answer.args[0]]"
   ]
  },
  {
   "cell_type": "code",
   "execution_count": 46,
   "id": "7cf23f4f",
   "metadata": {},
   "outputs": [],
   "source": [
    "df['val'] = [x_1, x_2]"
   ]
  },
  {
   "cell_type": "code",
   "execution_count": 47,
   "id": "dda31a77",
   "metadata": {},
   "outputs": [
    {
     "data": {
      "text/html": [
       "<div>\n",
       "<style scoped>\n",
       "    .dataframe tbody tr th:only-of-type {\n",
       "        vertical-align: middle;\n",
       "    }\n",
       "\n",
       "    .dataframe tbody tr th {\n",
       "        vertical-align: top;\n",
       "    }\n",
       "\n",
       "    .dataframe thead th {\n",
       "        text-align: right;\n",
       "    }\n",
       "</style>\n",
       "<table border=\"1\" class=\"dataframe\">\n",
       "  <thead>\n",
       "    <tr style=\"text-align: right;\">\n",
       "      <th></th>\n",
       "      <th>val</th>\n",
       "      <th>prob</th>\n",
       "    </tr>\n",
       "  </thead>\n",
       "  <tbody>\n",
       "    <tr>\n",
       "      <th>0</th>\n",
       "      <td>1.000</td>\n",
       "      <td>0.300</td>\n",
       "    </tr>\n",
       "    <tr>\n",
       "      <th>1</th>\n",
       "      <td>9.000</td>\n",
       "      <td>0.700</td>\n",
       "    </tr>\n",
       "  </tbody>\n",
       "</table>\n",
       "</div>"
      ],
      "text/plain": [
       "    val  prob\n",
       "0 1.000 0.300\n",
       "1 9.000 0.700"
      ]
     },
     "execution_count": 47,
     "metadata": {},
     "output_type": "execute_result"
    }
   ],
   "source": [
    "df"
   ]
  },
  {
   "cell_type": "code",
   "execution_count": 48,
   "id": "c2f21835",
   "metadata": {},
   "outputs": [
    {
     "data": {
      "text/plain": [
       "<AxesSubplot:xlabel='val', ylabel='Proportion'>"
      ]
     },
     "execution_count": 48,
     "metadata": {},
     "output_type": "execute_result"
    },
    {
     "data": {
      "image/png": "[encoded data removed]",
      "text/plain": [
       "<Figure size 432x288 with 1 Axes>"
      ]
     },
     "metadata": {
      "needs_background": "light"
     },
     "output_type": "display_data"
    }
   ],
   "source": [
    "sns.ecdfplot(data=df,  x='val', weights='prob')"
   ]
  },
  {
   "cell_type": "markdown",
   "id": "eb68d192",
   "metadata": {},
   "source": [
    "### Задача 4. \n",
    "\n",
    "Распределение дискретной случайной величины $Х$ задано следующей таблицей (рядом распределения):\n",
    "\n",
    "| -6 | 3 | 9 | 15 |\n",
    "| --- | --- | --- | --- |\n",
    "| 0.40 | 0.30 | ? | 0.10 |\n",
    "\n",
    "Определить недостающее значение в таблице распределения. Вычислить основные числовые характеристики распределения: $Mx,Dx,σx$. Найти и построить функцию распределения $F(x)$. Определить вероятность того, что случайная величина $Х$ примет значения:\n",
    "- А) больше чем 6,\n",
    "- Б) меньше чем 12,\n",
    "- В) не больше 9."
   ]
  },
  {
   "cell_type": "code",
   "execution_count": 142,
   "id": "9966fe75",
   "metadata": {},
   "outputs": [],
   "source": [
    "x_1 = np.nan\n",
    "\n",
    "df = pd.DataFrame({'val':[-6, 3, 9, 15], 'prob':[0.4, 0.3, np.nan, 0.1]})"
   ]
  },
  {
   "cell_type": "code",
   "execution_count": 143,
   "id": "d99f1652",
   "metadata": {},
   "outputs": [],
   "source": [
    "x_1 = round(1 - df['prob'].sum(), 2)\n",
    "\n",
    "df.loc[df['prob'].isna(), 'prob'] = x_1"
   ]
  },
  {
   "cell_type": "markdown",
   "id": "b59623b7",
   "metadata": {},
   "source": [
    "Вычислить основные числовые характеристики распределения: $Mx,Dx,σx$."
   ]
  },
  {
   "cell_type": "code",
   "execution_count": 144,
   "id": "639b8db5",
   "metadata": {},
   "outputs": [
    {
     "data": {
      "text/html": [
       "<div>\n",
       "<style scoped>\n",
       "    .dataframe tbody tr th:only-of-type {\n",
       "        vertical-align: middle;\n",
       "    }\n",
       "\n",
       "    .dataframe tbody tr th {\n",
       "        vertical-align: top;\n",
       "    }\n",
       "\n",
       "    .dataframe thead th {\n",
       "        text-align: right;\n",
       "    }\n",
       "</style>\n",
       "<table border=\"1\" class=\"dataframe\">\n",
       "  <thead>\n",
       "    <tr style=\"text-align: right;\">\n",
       "      <th></th>\n",
       "      <th>mean</th>\n",
       "      <th>var</th>\n",
       "      <th>std</th>\n",
       "    </tr>\n",
       "  </thead>\n",
       "  <tbody>\n",
       "    <tr>\n",
       "      <th>0</th>\n",
       "      <td>1.800</td>\n",
       "      <td>52.560</td>\n",
       "      <td>7.250</td>\n",
       "    </tr>\n",
       "  </tbody>\n",
       "</table>\n",
       "</div>"
      ],
      "text/plain": [
       "   mean    var   std\n",
       "0 1.800 52.560 7.250"
      ]
     },
     "execution_count": 144,
     "metadata": {},
     "output_type": "execute_result"
    }
   ],
   "source": [
    "mean = round(np.average(df['val'], weights=df['prob']), 2)\n",
    "\n",
    "var = calc_variance(df['val'], df['prob'], mean)\n",
    "\n",
    "std = round(np.sqrt(var), 2) \n",
    "\n",
    "pd.DataFrame(data=[[mean, var, std]], \n",
    "             columns=['mean',' var', 'std'])"
   ]
  },
  {
   "cell_type": "markdown",
   "id": "52ae8818",
   "metadata": {},
   "source": [
    "Найти и построить функцию распределения $F(x)$"
   ]
  },
  {
   "cell_type": "code",
   "execution_count": 145,
   "id": "7fdbe551",
   "metadata": {},
   "outputs": [
    {
     "data": {
      "text/plain": [
       "[Text(-6, 0, '-6'), Text(3, 0, '3'), Text(9, 0, '9'), Text(15, 0, '15')]"
      ]
     },
     "execution_count": 145,
     "metadata": {},
     "output_type": "execute_result"
    },
    {
     "data": {
      "image/png": "[encoded data removed]",
      "text/plain": [
       "<Figure size 432x288 with 1 Axes>"
      ]
     },
     "metadata": {
      "needs_background": "light"
     },
     "output_type": "display_data"
    }
   ],
   "source": [
    "g = sns.ecdfplot(data=df,  x='val', weights='prob')\n",
    "g.set_xticks(df['val']) \n",
    "g.set_xticklabels(df['val'])"
   ]
  },
  {
   "cell_type": "code",
   "execution_count": 146,
   "id": "59a56168",
   "metadata": {},
   "outputs": [
    {
     "data": {
      "text/html": [
       "<div>\n",
       "<style scoped>\n",
       "    .dataframe tbody tr th:only-of-type {\n",
       "        vertical-align: middle;\n",
       "    }\n",
       "\n",
       "    .dataframe tbody tr th {\n",
       "        vertical-align: top;\n",
       "    }\n",
       "\n",
       "    .dataframe thead th {\n",
       "        text-align: right;\n",
       "    }\n",
       "</style>\n",
       "<table border=\"1\" class=\"dataframe\">\n",
       "  <thead>\n",
       "    <tr style=\"text-align: right;\">\n",
       "      <th></th>\n",
       "      <th>val</th>\n",
       "      <th>prob</th>\n",
       "    </tr>\n",
       "  </thead>\n",
       "  <tbody>\n",
       "    <tr>\n",
       "      <th>0</th>\n",
       "      <td>-6</td>\n",
       "      <td>0.400</td>\n",
       "    </tr>\n",
       "    <tr>\n",
       "      <th>1</th>\n",
       "      <td>3</td>\n",
       "      <td>0.300</td>\n",
       "    </tr>\n",
       "    <tr>\n",
       "      <th>2</th>\n",
       "      <td>9</td>\n",
       "      <td>0.200</td>\n",
       "    </tr>\n",
       "    <tr>\n",
       "      <th>3</th>\n",
       "      <td>15</td>\n",
       "      <td>0.100</td>\n",
       "    </tr>\n",
       "  </tbody>\n",
       "</table>\n",
       "</div>"
      ],
      "text/plain": [
       "   val  prob\n",
       "0   -6 0.400\n",
       "1    3 0.300\n",
       "2    9 0.200\n",
       "3   15 0.100"
      ]
     },
     "execution_count": 146,
     "metadata": {},
     "output_type": "execute_result"
    }
   ],
   "source": [
    "df"
   ]
  },
  {
   "cell_type": "markdown",
   "id": "3ed62b2c",
   "metadata": {},
   "source": [
    " Определить вероятность того, что случайная величина $Х$ примет значения:\n",
    "- А) больше чем 6,\n",
    "- Б) меньше чем 12,\n",
    "- В) не больше 9."
   ]
  },
  {
   "cell_type": "markdown",
   "id": "c01ad658",
   "metadata": {},
   "source": [
    "#### Пользовательские функции"
   ]
  },
  {
   "cell_type": "code",
   "execution_count": 147,
   "id": "9ba8ee3e",
   "metadata": {},
   "outputs": [
    {
     "data": {
      "text/html": [
       "<div>\n",
       "<style scoped>\n",
       "    .dataframe tbody tr th:only-of-type {\n",
       "        vertical-align: middle;\n",
       "    }\n",
       "\n",
       "    .dataframe tbody tr th {\n",
       "        vertical-align: top;\n",
       "    }\n",
       "\n",
       "    .dataframe thead th {\n",
       "        text-align: right;\n",
       "    }\n",
       "</style>\n",
       "<table border=\"1\" class=\"dataframe\">\n",
       "  <thead>\n",
       "    <tr style=\"text-align: right;\">\n",
       "      <th></th>\n",
       "      <th>x_more_6</th>\n",
       "      <th>x_less_12</th>\n",
       "      <th>x_less_9_inc</th>\n",
       "    </tr>\n",
       "  </thead>\n",
       "  <tbody>\n",
       "    <tr>\n",
       "      <th>0</th>\n",
       "      <td>0.300</td>\n",
       "      <td>0.900</td>\n",
       "      <td>0.900</td>\n",
       "    </tr>\n",
       "  </tbody>\n",
       "</table>\n",
       "</div>"
      ],
      "text/plain": [
       "   x_more_6  x_less_12  x_less_9_inc\n",
       "0     0.300      0.900         0.900"
      ]
     },
     "execution_count": 147,
     "metadata": {},
     "output_type": "execute_result"
    }
   ],
   "source": [
    "x_more_6 = round(df[df['val']>6]['prob'].sum(), 2)\n",
    "\n",
    "x_less_12 = round(df[df['val']<12]['prob'].sum(), 2)\n",
    "\n",
    "x_less_9_inc = round(df[df['val']<=9]['prob'].sum(), 2)\n",
    "\n",
    "pd.DataFrame(data=[[x_more_6, x_less_12, x_less_9_inc]], \n",
    "             columns=['x_more_6','x_less_12', 'x_less_9_inc'])"
   ]
  },
  {
   "cell_type": "markdown",
   "id": "a9c7ae9a",
   "metadata": {},
   "source": [
    "#### С пакетом stats"
   ]
  },
  {
   "cell_type": "code",
   "execution_count": 148,
   "id": "4c9d62fc",
   "metadata": {},
   "outputs": [
    {
     "data": {
      "image/png": "[encoded data removed]",
      "text/plain": [
       "<Figure size 432x288 with 1 Axes>"
      ]
     },
     "metadata": {
      "needs_background": "light"
     },
     "output_type": "display_data"
    }
   ],
   "source": [
    "xk = df['val']\n",
    "pk = df['prob']\n",
    "custm_dist = stats.rv_discrete(name='cust_dist', values=(xk, pk))\n",
    "\n",
    "fig, ax = plt.subplots(1, 1)\n",
    "ax.plot(xk, custm_dist.pmf(xk))\n",
    "\n",
    "plt.show()"
   ]
  },
  {
   "cell_type": "code",
   "execution_count": 155,
   "id": "d2a7185e",
   "metadata": {},
   "outputs": [
    {
     "data": {
      "text/html": [
       "<div>\n",
       "<style scoped>\n",
       "    .dataframe tbody tr th:only-of-type {\n",
       "        vertical-align: middle;\n",
       "    }\n",
       "\n",
       "    .dataframe tbody tr th {\n",
       "        vertical-align: top;\n",
       "    }\n",
       "\n",
       "    .dataframe thead th {\n",
       "        text-align: right;\n",
       "    }\n",
       "</style>\n",
       "<table border=\"1\" class=\"dataframe\">\n",
       "  <thead>\n",
       "    <tr style=\"text-align: right;\">\n",
       "      <th></th>\n",
       "      <th>x_more_6</th>\n",
       "      <th>x_less_12</th>\n",
       "      <th>x_less_9_inc</th>\n",
       "    </tr>\n",
       "  </thead>\n",
       "  <tbody>\n",
       "    <tr>\n",
       "      <th>0</th>\n",
       "      <td>0.300</td>\n",
       "      <td>0.900</td>\n",
       "      <td>0.900</td>\n",
       "    </tr>\n",
       "  </tbody>\n",
       "</table>\n",
       "</div>"
      ],
      "text/plain": [
       "   x_more_6  x_less_12  x_less_9_inc\n",
       "0     0.300      0.900         0.900"
      ]
     },
     "execution_count": 155,
     "metadata": {},
     "output_type": "execute_result"
    }
   ],
   "source": [
    "x_more_6 = round(1-custm_dist.cdf(6), 2)\n",
    "x_less_12 = round(custm_dist.cdf(12), 2)\n",
    "x_less_9_inc = round(custm_dist.cdf(9), 2)\n",
    "\n",
    "pd.DataFrame(data=[[x_more_6, x_less_12, x_less_9_inc]], \n",
    "             columns=['x_more_6','x_less_12', 'x_less_9_inc'])"
   ]
  },
  {
   "cell_type": "markdown",
   "id": "7eb0f130",
   "metadata": {},
   "source": [
    "## Задача 4. Посмотреть ЦПТ на разных распределениях"
   ]
  },
  {
   "cell_type": "markdown",
   "id": "4bcd7fd3",
   "metadata": {},
   "source": [
    "#### Экспоненциальное (показательное)"
   ]
  },
  {
   "cell_type": "code",
   "execution_count": 340,
   "id": "f9bfa35c",
   "metadata": {},
   "outputs": [
    {
     "data": {
      "text/plain": [
       "<AxesSubplot:ylabel='Count'>"
      ]
     },
     "execution_count": 340,
     "metadata": {},
     "output_type": "execute_result"
    },
    {
     "data": {
      "image/png": "[encoded data removed]",
      "text/plain": [
       "<Figure size 432x288 with 1 Axes>"
      ]
     },
     "metadata": {
      "needs_background": "light"
     },
     "output_type": "display_data"
    }
   ],
   "source": [
    "from  scipy.stats import expon\n",
    "\n",
    "n=1000\n",
    "\n",
    "sns.histplot(expon.rvs(scale = 1/2, size = n))"
   ]
  },
  {
   "cell_type": "code",
   "execution_count": 341,
   "id": "0e94613d",
   "metadata": {},
   "outputs": [
    {
     "data": {
      "text/plain": [
       "<AxesSubplot:ylabel='Count'>"
      ]
     },
     "execution_count": 341,
     "metadata": {},
     "output_type": "execute_result"
    },
    {
     "data": {
      "image/png": "[encoded data removed]",
      "text/plain": [
       "<Figure size 432x288 with 1 Axes>"
      ]
     },
     "metadata": {
      "needs_background": "light"
     },
     "output_type": "display_data"
    }
   ],
   "source": [
    "Y = []\n",
    "\n",
    "for i in range(1000):\n",
    "    sample = expon.rvs(scale = 1/2, size = n)\n",
    "    Y.append((sum(sample) - n*expon.mean(scale = 1/2))/(np.sqrt(n)*expon.std(scale = 1/2)))\n",
    "    \n",
    "sns.histplot(Y, bins = 10)"
   ]
  },
  {
   "cell_type": "markdown",
   "id": "c0712ff6",
   "metadata": {},
   "source": [
    "#### Биномиальное"
   ]
  },
  {
   "cell_type": "code",
   "execution_count": 389,
   "id": "913917c9",
   "metadata": {},
   "outputs": [
    {
     "data": {
      "text/plain": [
       "<AxesSubplot:ylabel='Count'>"
      ]
     },
     "execution_count": 389,
     "metadata": {},
     "output_type": "execute_result"
    },
    {
     "data": {
      "image/png": "[encoded data removed]",
      "text/plain": [
       "<Figure size 432x288 with 1 Axes>"
      ]
     },
     "metadata": {
      "needs_background": "light"
     },
     "output_type": "display_data"
    }
   ],
   "source": [
    "from  scipy.stats import binom\n",
    "\n",
    "n, p = 52, 0.7\n",
    "\n",
    "sns.histplot(binom.rvs(n, p, size=30), bins=10)"
   ]
  },
  {
   "cell_type": "code",
   "execution_count": 385,
   "id": "a8812dc7",
   "metadata": {},
   "outputs": [
    {
     "data": {
      "text/plain": [
       "<AxesSubplot:ylabel='Count'>"
      ]
     },
     "execution_count": 385,
     "metadata": {},
     "output_type": "execute_result"
    },
    {
     "data": {
      "image/png": "[encoded data removed]",
      "text/plain": [
       "<Figure size 432x288 with 1 Axes>"
      ]
     },
     "metadata": {
      "needs_background": "light"
     },
     "output_type": "display_data"
    }
   ],
   "source": [
    "Y = []\n",
    "\n",
    "n, p = 50, 0.7\n",
    "\n",
    "for i in range(1000):\n",
    "    sample = binom.rvs(n, p, size=30)\n",
    "    Y.append((sum(sample) - 30*binom.mean(n, p))/(np.sqrt(30)*binom.std(n, p)))\n",
    "    \n",
    "sns.histplot(Y, bins = 10)"
   ]
  },
  {
   "cell_type": "markdown",
   "id": "9be5db25",
   "metadata": {},
   "source": [
    "#### Гамма-рапределение"
   ]
  },
  {
   "cell_type": "code",
   "execution_count": 358,
   "id": "f998840e",
   "metadata": {},
   "outputs": [
    {
     "data": {
      "text/plain": [
       "<AxesSubplot:ylabel='Count'>"
      ]
     },
     "execution_count": 358,
     "metadata": {},
     "output_type": "execute_result"
    },
    {
     "data": {
      "image/png": "[encoded data removed]",
      "text/plain": [
       "<Figure size 432x288 with 1 Axes>"
      ]
     },
     "metadata": {
      "needs_background": "light"
     },
     "output_type": "display_data"
    }
   ],
   "source": [
    "from  scipy.stats import gamma\n",
    "\n",
    "a = 3\n",
    "\n",
    "sns.histplot(gamma.rvs(a, size=100), bins=10)"
   ]
  },
  {
   "cell_type": "code",
   "execution_count": 359,
   "id": "d1bee534",
   "metadata": {},
   "outputs": [
    {
     "data": {
      "text/plain": [
       "<AxesSubplot:ylabel='Count'>"
      ]
     },
     "execution_count": 359,
     "metadata": {},
     "output_type": "execute_result"
    },
    {
     "data": {
      "image/png": "[encoded data removed]",
      "text/plain": [
       "<Figure size 432x288 with 1 Axes>"
      ]
     },
     "metadata": {
      "needs_background": "light"
     },
     "output_type": "display_data"
    }
   ],
   "source": [
    "Y = []\n",
    "\n",
    "a = 3\n",
    "\n",
    "for i in range(1000):\n",
    "    sample = gamma.rvs(a, size=100)\n",
    "    Y.append((sum(sample) - 100*gamma.mean(a))/(np.sqrt(100)*gamma.std(a)))\n",
    "    \n",
    "sns.histplot(Y, bins = 10)"
   ]
  },
  {
   "cell_type": "markdown",
   "id": "c8accf5b",
   "metadata": {},
   "source": [
    "#### Хи квадрат"
   ]
  },
  {
   "cell_type": "code",
   "execution_count": 360,
   "id": "37574cb2",
   "metadata": {},
   "outputs": [
    {
     "data": {
      "text/plain": [
       "<AxesSubplot:ylabel='Count'>"
      ]
     },
     "execution_count": 360,
     "metadata": {},
     "output_type": "execute_result"
    },
    {
     "data": {
      "image/png": "[encoded data removed]",
      "text/plain": [
       "<Figure size 432x288 with 1 Axes>"
      ]
     },
     "metadata": {
      "needs_background": "light"
     },
     "output_type": "display_data"
    }
   ],
   "source": [
    "from  scipy.stats import chi\n",
    "\n",
    "a = 2\n",
    "\n",
    "sns.histplot(chi.rvs(a, size=100), bins=10)"
   ]
  },
  {
   "cell_type": "code",
   "execution_count": 362,
   "id": "3067b146",
   "metadata": {},
   "outputs": [
    {
     "data": {
      "text/plain": [
       "<AxesSubplot:ylabel='Count'>"
      ]
     },
     "execution_count": 362,
     "metadata": {},
     "output_type": "execute_result"
    },
    {
     "data": {
      "image/png": "[encoded data removed]",
      "text/plain": [
       "<Figure size 432x288 with 1 Axes>"
      ]
     },
     "metadata": {
      "needs_background": "light"
     },
     "output_type": "display_data"
    }
   ],
   "source": [
    "Y = []\n",
    "\n",
    "a = 2\n",
    "\n",
    "for i in range(1000):\n",
    "    sample = chi.rvs(a, size=100)\n",
    "    Y.append((sum(sample) - 100*chi.mean(a))/(np.sqrt(100)*chi.std(a)))\n",
    "    \n",
    "sns.histplot(Y, bins = 10)"
   ]
  },
  {
   "cell_type": "markdown",
   "id": "7a8fd59a",
   "metadata": {},
   "source": [
    "#### Стьюдента "
   ]
  },
  {
   "cell_type": "code",
   "execution_count": 371,
   "id": "e55d8050",
   "metadata": {},
   "outputs": [
    {
     "data": {
      "text/plain": [
       "<AxesSubplot:ylabel='Count'>"
      ]
     },
     "execution_count": 371,
     "metadata": {},
     "output_type": "execute_result"
    },
    {
     "data": {
      "image/png": "[encoded data removed]",
      "text/plain": [
       "<Figure size 432x288 with 1 Axes>"
      ]
     },
     "metadata": {
      "needs_background": "light"
     },
     "output_type": "display_data"
    }
   ],
   "source": [
    "from  scipy.stats import t\n",
    "\n",
    "a = 20\n",
    "\n",
    "sns.histplot(t.rvs(a, size=100), bins=10)"
   ]
  },
  {
   "cell_type": "code",
   "execution_count": 372,
   "id": "e690f7b7",
   "metadata": {},
   "outputs": [
    {
     "data": {
      "text/plain": [
       "<AxesSubplot:ylabel='Count'>"
      ]
     },
     "execution_count": 372,
     "metadata": {},
     "output_type": "execute_result"
    },
    {
     "data": {
      "image/png": "[encoded data removed]",
      "text/plain": [
       "<Figure size 432x288 with 1 Axes>"
      ]
     },
     "metadata": {
      "needs_background": "light"
     },
     "output_type": "display_data"
    }
   ],
   "source": [
    "Y = []\n",
    "\n",
    "a = 20\n",
    "\n",
    "for i in range(1000):\n",
    "    sample = t.rvs(a, size=100)\n",
    "    Y.append((sum(sample) - 100*t.mean(a))/(np.sqrt(100)*t.std(a)))\n",
    "    \n",
    "sns.histplot(Y, bins = 10)"
   ]
  },
  {
   "cell_type": "markdown",
   "id": "a30b950a",
   "metadata": {},
   "source": [
    "#### Бета"
   ]
  },
  {
   "cell_type": "code",
   "execution_count": 380,
   "id": "466a8ee5",
   "metadata": {},
   "outputs": [
    {
     "data": {
      "text/plain": [
       "<AxesSubplot:ylabel='Count'>"
      ]
     },
     "execution_count": 380,
     "metadata": {},
     "output_type": "execute_result"
    },
    {
     "data": {
      "image/png": "[encoded data removed]",
      "text/plain": [
       "<Figure size 432x288 with 1 Axes>"
      ]
     },
     "metadata": {
      "needs_background": "light"
     },
     "output_type": "display_data"
    }
   ],
   "source": [
    "from  scipy.stats import beta\n",
    "\n",
    "a = 1\n",
    "b = 2\n",
    "\n",
    "sns.histplot(beta.rvs(a, b, size=100), bins=10)"
   ]
  },
  {
   "cell_type": "code",
   "execution_count": 381,
   "id": "56a165dd",
   "metadata": {},
   "outputs": [
    {
     "data": {
      "text/plain": [
       "<AxesSubplot:ylabel='Count'>"
      ]
     },
     "execution_count": 381,
     "metadata": {},
     "output_type": "execute_result"
    },
    {
     "data": {
      "image/png": "[encoded data removed]",
      "text/plain": [
       "<Figure size 432x288 with 1 Axes>"
      ]
     },
     "metadata": {
      "needs_background": "light"
     },
     "output_type": "display_data"
    }
   ],
   "source": [
    "Y = []\n",
    "\n",
    "a = 1\n",
    "b = 2\n",
    "\n",
    "for i in range(1000):\n",
    "    sample = beta.rvs(a, b, size=100)\n",
    "    Y.append((sum(sample) - 100*beta.mean(a, b))/(np.sqrt(100)*beta.std(a, b)))\n",
    "    \n",
    "sns.histplot(Y, bins = 10)"
   ]
  },
  {
   "cell_type": "markdown",
   "id": "840de247",
   "metadata": {},
   "source": [
    "## Задача 5.\n",
    "\n",
    "В результате эксперимента получена выборка объема $n=79$:"
   ]
  },
  {
   "cell_type": "code",
   "execution_count": 498,
   "id": "fa86a85b",
   "metadata": {},
   "outputs": [],
   "source": [
    "sample = [2, 4, 2, 4, 3, 3, 3, 2, 0, 6, 1, 2, 3, 2, 2, \n",
    "          4, 3, 3, 5, 1, 0, 2, 4, 3, 2, 2, 3, 3, 1, 3, \n",
    "          3, 3, 1, 1, 2, 3, 1, 4, 3, 1, 7, 4, 3, 4, 2, \n",
    "          3, 2, 3, 3, 1, 4, 3, 1, 4, 5, 3, 4, 2, 4, 5, \n",
    "          3, 6, 4, 1, 3, 2, 4, 1, 3, 1, 0, 0, 4, 6, 4, \n",
    "          7, 4, 1, 3]\n",
    "\n",
    "df = pd.DataFrame(sample, columns=['x_i'])"
   ]
  },
  {
   "cell_type": "markdown",
   "id": "ebff0021",
   "metadata": {},
   "source": [
    "#### Построим статистический ряд"
   ]
  },
  {
   "cell_type": "code",
   "execution_count": 499,
   "id": "75945771",
   "metadata": {},
   "outputs": [
    {
     "data": {
      "text/html": [
       "<div>\n",
       "<style scoped>\n",
       "    .dataframe tbody tr th:only-of-type {\n",
       "        vertical-align: middle;\n",
       "    }\n",
       "\n",
       "    .dataframe tbody tr th {\n",
       "        vertical-align: top;\n",
       "    }\n",
       "\n",
       "    .dataframe thead th {\n",
       "        text-align: right;\n",
       "    }\n",
       "</style>\n",
       "<table border=\"1\" class=\"dataframe\">\n",
       "  <thead>\n",
       "    <tr style=\"text-align: right;\">\n",
       "      <th></th>\n",
       "      <th>x_i</th>\n",
       "      <th>n_i</th>\n",
       "    </tr>\n",
       "  </thead>\n",
       "  <tbody>\n",
       "    <tr>\n",
       "      <th>4</th>\n",
       "      <td>0</td>\n",
       "      <td>4</td>\n",
       "    </tr>\n",
       "    <tr>\n",
       "      <th>3</th>\n",
       "      <td>1</td>\n",
       "      <td>13</td>\n",
       "    </tr>\n",
       "    <tr>\n",
       "      <th>2</th>\n",
       "      <td>2</td>\n",
       "      <td>14</td>\n",
       "    </tr>\n",
       "    <tr>\n",
       "      <th>0</th>\n",
       "      <td>3</td>\n",
       "      <td>24</td>\n",
       "    </tr>\n",
       "    <tr>\n",
       "      <th>1</th>\n",
       "      <td>4</td>\n",
       "      <td>16</td>\n",
       "    </tr>\n",
       "    <tr>\n",
       "      <th>5</th>\n",
       "      <td>5</td>\n",
       "      <td>3</td>\n",
       "    </tr>\n",
       "    <tr>\n",
       "      <th>6</th>\n",
       "      <td>6</td>\n",
       "      <td>3</td>\n",
       "    </tr>\n",
       "    <tr>\n",
       "      <th>7</th>\n",
       "      <td>7</td>\n",
       "      <td>2</td>\n",
       "    </tr>\n",
       "  </tbody>\n",
       "</table>\n",
       "</div>"
      ],
      "text/plain": [
       "   x_i  n_i\n",
       "4    0    4\n",
       "3    1   13\n",
       "2    2   14\n",
       "0    3   24\n",
       "1    4   16\n",
       "5    5    3\n",
       "6    6    3\n",
       "7    7    2"
      ]
     },
     "execution_count": 499,
     "metadata": {},
     "output_type": "execute_result"
    }
   ],
   "source": [
    "df = df.value_counts().reset_index().sort_values(by='x_i').rename({0:'n_i'}, axis=1)\n",
    "\n",
    "df"
   ]
  },
  {
   "cell_type": "markdown",
   "id": "0a71c355",
   "metadata": {},
   "source": [
    "#### Построим полигон частот"
   ]
  },
  {
   "cell_type": "code",
   "execution_count": 500,
   "id": "b8018a01",
   "metadata": {},
   "outputs": [
    {
     "data": {
      "image/png": "[encoded data removed]",
      "text/plain": [
       "<Figure size 432x288 with 1 Axes>"
      ]
     },
     "metadata": {
      "needs_background": "light"
     },
     "output_type": "display_data"
    }
   ],
   "source": [
    "g = sns.lineplot(data=df,  x='x_i', y='n_i', marker='*', color='#965786')\n",
    "g.set_xticks(df['x_i']) \n",
    "g.set_xticklabels(df['x_i'])\n",
    "\n",
    "for x, y in zip(df['x_i'], df['n_i']):\n",
    "    plt.text(x = x, y = y-1, s = '{:.0f}'.format(y), color = 'purple') \n",
    "\n",
    "\n",
    "plt.show()"
   ]
  },
  {
   "cell_type": "markdown",
   "id": "0d6806c7",
   "metadata": {},
   "source": [
    "#### Построим эмпирическую функцию распределения"
   ]
  },
  {
   "cell_type": "code",
   "execution_count": 501,
   "id": "7510f221",
   "metadata": {},
   "outputs": [],
   "source": [
    "df['w_i'] = df['n_i'] / df['n_i'].sum()\n",
    "df['s_i'] = df['w_i'].cumsum()"
   ]
  },
  {
   "cell_type": "code",
   "execution_count": 502,
   "id": "68af2b64",
   "metadata": {},
   "outputs": [
    {
     "data": {
      "text/html": [
       "<div>\n",
       "<style scoped>\n",
       "    .dataframe tbody tr th:only-of-type {\n",
       "        vertical-align: middle;\n",
       "    }\n",
       "\n",
       "    .dataframe tbody tr th {\n",
       "        vertical-align: top;\n",
       "    }\n",
       "\n",
       "    .dataframe thead th {\n",
       "        text-align: right;\n",
       "    }\n",
       "</style>\n",
       "<table border=\"1\" class=\"dataframe\">\n",
       "  <thead>\n",
       "    <tr style=\"text-align: right;\">\n",
       "      <th></th>\n",
       "      <th>x_i</th>\n",
       "      <th>n_i</th>\n",
       "      <th>w_i</th>\n",
       "      <th>s_i</th>\n",
       "    </tr>\n",
       "  </thead>\n",
       "  <tbody>\n",
       "    <tr>\n",
       "      <th>4</th>\n",
       "      <td>0</td>\n",
       "      <td>4</td>\n",
       "      <td>0.051</td>\n",
       "      <td>0.051</td>\n",
       "    </tr>\n",
       "    <tr>\n",
       "      <th>3</th>\n",
       "      <td>1</td>\n",
       "      <td>13</td>\n",
       "      <td>0.165</td>\n",
       "      <td>0.215</td>\n",
       "    </tr>\n",
       "    <tr>\n",
       "      <th>2</th>\n",
       "      <td>2</td>\n",
       "      <td>14</td>\n",
       "      <td>0.177</td>\n",
       "      <td>0.392</td>\n",
       "    </tr>\n",
       "    <tr>\n",
       "      <th>0</th>\n",
       "      <td>3</td>\n",
       "      <td>24</td>\n",
       "      <td>0.304</td>\n",
       "      <td>0.696</td>\n",
       "    </tr>\n",
       "    <tr>\n",
       "      <th>1</th>\n",
       "      <td>4</td>\n",
       "      <td>16</td>\n",
       "      <td>0.203</td>\n",
       "      <td>0.899</td>\n",
       "    </tr>\n",
       "    <tr>\n",
       "      <th>5</th>\n",
       "      <td>5</td>\n",
       "      <td>3</td>\n",
       "      <td>0.038</td>\n",
       "      <td>0.937</td>\n",
       "    </tr>\n",
       "    <tr>\n",
       "      <th>6</th>\n",
       "      <td>6</td>\n",
       "      <td>3</td>\n",
       "      <td>0.038</td>\n",
       "      <td>0.975</td>\n",
       "    </tr>\n",
       "    <tr>\n",
       "      <th>7</th>\n",
       "      <td>7</td>\n",
       "      <td>2</td>\n",
       "      <td>0.025</td>\n",
       "      <td>1.000</td>\n",
       "    </tr>\n",
       "  </tbody>\n",
       "</table>\n",
       "</div>"
      ],
      "text/plain": [
       "   x_i  n_i   w_i   s_i\n",
       "4    0    4 0.051 0.051\n",
       "3    1   13 0.165 0.215\n",
       "2    2   14 0.177 0.392\n",
       "0    3   24 0.304 0.696\n",
       "1    4   16 0.203 0.899\n",
       "5    5    3 0.038 0.937\n",
       "6    6    3 0.038 0.975\n",
       "7    7    2 0.025 1.000"
      ]
     },
     "execution_count": 502,
     "metadata": {},
     "output_type": "execute_result"
    }
   ],
   "source": [
    "df"
   ]
  },
  {
   "cell_type": "code",
   "execution_count": 503,
   "id": "6fc01f02",
   "metadata": {},
   "outputs": [
    {
     "data": {
      "image/png": "[encoded data removed]",
      "text/plain": [
       "<Figure size 432x288 with 1 Axes>"
      ]
     },
     "metadata": {
      "needs_background": "light"
     },
     "output_type": "display_data"
    }
   ],
   "source": [
    "g = sns.ecdfplot(data=df,  x='x_i', weights='w_i')\n",
    "g.set_xticks(df['x_i']) \n",
    "g.set_xticklabels(df['x_i'])\n",
    "\n",
    "plt.show()"
   ]
  },
  {
   "cell_type": "code",
   "execution_count": 505,
   "id": "b2591788",
   "metadata": {},
   "outputs": [
    {
     "data": {
      "image/png": "[encoded data removed]",
      "text/plain": [
       "<Figure size 432x288 with 1 Axes>"
      ]
     },
     "metadata": {
      "needs_background": "light"
     },
     "output_type": "display_data"
    }
   ],
   "source": [
    "xk = df['x_i']\n",
    "pk = df['w_i']\n",
    "custm_dist = stats.rv_discrete(name='cust_dist', values=(xk, pk))\n",
    "\n",
    "fig, ax = plt.subplots(1, 1)\n",
    "ax.plot(xk, custm_dist.pmf(xk))\n",
    "\n",
    "plt.show()"
   ]
  },
  {
   "cell_type": "markdown",
   "id": "b957ff70",
   "metadata": {},
   "source": [
    "#### Найдем выборочное среднее, диспрерсию и стандартное отклонение"
   ]
  },
  {
   "cell_type": "code",
   "execution_count": 536,
   "id": "35eb8494",
   "metadata": {},
   "outputs": [
    {
     "data": {
      "text/html": [
       "<div>\n",
       "<style scoped>\n",
       "    .dataframe tbody tr th:only-of-type {\n",
       "        vertical-align: middle;\n",
       "    }\n",
       "\n",
       "    .dataframe tbody tr th {\n",
       "        vertical-align: top;\n",
       "    }\n",
       "\n",
       "    .dataframe thead th {\n",
       "        text-align: right;\n",
       "    }\n",
       "</style>\n",
       "<table border=\"1\" class=\"dataframe\">\n",
       "  <thead>\n",
       "    <tr style=\"text-align: right;\">\n",
       "      <th></th>\n",
       "      <th>mean</th>\n",
       "      <th>var</th>\n",
       "      <th>std</th>\n",
       "    </tr>\n",
       "  </thead>\n",
       "  <tbody>\n",
       "    <tr>\n",
       "      <th>0</th>\n",
       "      <td>2.835</td>\n",
       "      <td>2.365</td>\n",
       "      <td>1.538</td>\n",
       "    </tr>\n",
       "  </tbody>\n",
       "</table>\n",
       "</div>"
      ],
      "text/plain": [
       "   mean   var   std\n",
       "0 2.835 2.365 1.538"
      ]
     },
     "execution_count": 536,
     "metadata": {},
     "output_type": "execute_result"
    }
   ],
   "source": [
    "mean = custm_dist.mean()\n",
    "var = custm_dist.var()\n",
    "std = custm_dist.std()\n",
    "\n",
    "pd.DataFrame(data=[[mean, var, std]], \n",
    "             columns=['mean',' var', 'std'])"
   ]
  },
  {
   "cell_type": "code",
   "execution_count": 537,
   "id": "e58959ac",
   "metadata": {},
   "outputs": [
    {
     "data": {
      "text/html": [
       "<div>\n",
       "<style scoped>\n",
       "    .dataframe tbody tr th:only-of-type {\n",
       "        vertical-align: middle;\n",
       "    }\n",
       "\n",
       "    .dataframe tbody tr th {\n",
       "        vertical-align: top;\n",
       "    }\n",
       "\n",
       "    .dataframe thead th {\n",
       "        text-align: right;\n",
       "    }\n",
       "</style>\n",
       "<table border=\"1\" class=\"dataframe\">\n",
       "  <thead>\n",
       "    <tr style=\"text-align: right;\">\n",
       "      <th></th>\n",
       "      <th>mean</th>\n",
       "      <th>var</th>\n",
       "      <th>std</th>\n",
       "    </tr>\n",
       "  </thead>\n",
       "  <tbody>\n",
       "    <tr>\n",
       "      <th>0</th>\n",
       "      <td>2.835</td>\n",
       "      <td>2.365</td>\n",
       "      <td>1.538</td>\n",
       "    </tr>\n",
       "  </tbody>\n",
       "</table>\n",
       "</div>"
      ],
      "text/plain": [
       "   mean   var   std\n",
       "0 2.835 2.365 1.538"
      ]
     },
     "execution_count": 537,
     "metadata": {},
     "output_type": "execute_result"
    }
   ],
   "source": [
    "mean = (df['x_i'] * df['n_i']).sum() / df['n_i'].sum()\n",
    "var = ((((df['x_i'] - mean)**2) * df['n_i']).sum()) / (df['n_i'].sum())\n",
    "std = np.sqrt(var)\n",
    "\n",
    "pd.DataFrame(data=[[mean, var, std]], \n",
    "             columns=['mean',' var', 'std'])"
   ]
  },
  {
   "cell_type": "markdown",
   "id": "f1865bb7",
   "metadata": {},
   "source": [
    "## Задача 6.\n",
    "\n",
    "Задан закон распределения дискретной случайной величины $X$ (в первой строке указаны возможные значения $x_i$, во второй строке – вероятности возможных значений $p_i$).\n",
    "\n",
    "Найти:\n",
    "- А) математическое ожидание $M(X)$, дисперсию $D(X)$ и среднее квадратическое отклонение $σ(X)$;\n",
    "- Б) составить функцию распределения случайной величины $F(x)$ и построить ее график;\n",
    "- В) вычислить вероятности попадания случайной величины $X$ в интервал $x_2<X<x_4$, пользуясь составленной функцией распределения $F(x)$;\n",
    "- Г) составить закон распределения величины $Y=100−2X$;\n",
    "- Д) вычислить математическое ожидание и дисперсию составленной случайной величины $Y$ двумя способами, т.е. пользуясь свойством математического ожидания и дисперсии, а также непосредственно по закону распределения случайной величины $Y$.\n",
    "\n",
    "| 10 | 20 | 30 | 40 | 50 |\n",
    "| --- | --- | --- | --- | --- |\n",
    "| 0.1 | 0.2 | 0.1 | 0.2 | 0.4 |"
   ]
  },
  {
   "cell_type": "code",
   "execution_count": 540,
   "id": "24239039",
   "metadata": {},
   "outputs": [
    {
     "data": {
      "text/html": [
       "<div>\n",
       "<style scoped>\n",
       "    .dataframe tbody tr th:only-of-type {\n",
       "        vertical-align: middle;\n",
       "    }\n",
       "\n",
       "    .dataframe tbody tr th {\n",
       "        vertical-align: top;\n",
       "    }\n",
       "\n",
       "    .dataframe thead th {\n",
       "        text-align: right;\n",
       "    }\n",
       "</style>\n",
       "<table border=\"1\" class=\"dataframe\">\n",
       "  <thead>\n",
       "    <tr style=\"text-align: right;\">\n",
       "      <th></th>\n",
       "      <th>val</th>\n",
       "      <th>prob</th>\n",
       "    </tr>\n",
       "  </thead>\n",
       "  <tbody>\n",
       "    <tr>\n",
       "      <th>0</th>\n",
       "      <td>10</td>\n",
       "      <td>0.100</td>\n",
       "    </tr>\n",
       "    <tr>\n",
       "      <th>1</th>\n",
       "      <td>20</td>\n",
       "      <td>0.200</td>\n",
       "    </tr>\n",
       "    <tr>\n",
       "      <th>2</th>\n",
       "      <td>30</td>\n",
       "      <td>0.100</td>\n",
       "    </tr>\n",
       "    <tr>\n",
       "      <th>3</th>\n",
       "      <td>40</td>\n",
       "      <td>0.200</td>\n",
       "    </tr>\n",
       "    <tr>\n",
       "      <th>4</th>\n",
       "      <td>50</td>\n",
       "      <td>0.400</td>\n",
       "    </tr>\n",
       "  </tbody>\n",
       "</table>\n",
       "</div>"
      ],
      "text/plain": [
       "   val  prob\n",
       "0   10 0.100\n",
       "1   20 0.200\n",
       "2   30 0.100\n",
       "3   40 0.200\n",
       "4   50 0.400"
      ]
     },
     "execution_count": 540,
     "metadata": {},
     "output_type": "execute_result"
    }
   ],
   "source": [
    "df = pd.DataFrame({'val':np.arange(10, 51, 10), 'prob':np.array([0.1, 0.2, 0.1, 0.2, 0.4])})\n",
    "\n",
    "df"
   ]
  },
  {
   "cell_type": "code",
   "execution_count": 541,
   "id": "79495507",
   "metadata": {},
   "outputs": [
    {
     "data": {
      "image/png": "[encoded data removed]",
      "text/plain": [
       "<Figure size 432x288 with 1 Axes>"
      ]
     },
     "metadata": {
      "needs_background": "light"
     },
     "output_type": "display_data"
    }
   ],
   "source": [
    "xk = df['val']\n",
    "pk = df['prob']\n",
    "custm_dist = stats.rv_discrete(name='cust_dist', values=(xk, pk))\n",
    "\n",
    "fig, ax = plt.subplots(1, 1)\n",
    "ax.plot(xk, custm_dist.pmf(xk))\n",
    "\n",
    "plt.show()"
   ]
  },
  {
   "cell_type": "markdown",
   "id": "d9953256",
   "metadata": {},
   "source": [
    "- А) математическое ожидание $M(X)$, дисперсию $D(X)$ и среднее квадратическое отклонение $σ(X)$;"
   ]
  },
  {
   "cell_type": "code",
   "execution_count": 544,
   "id": "1f33ed8b",
   "metadata": {},
   "outputs": [
    {
     "data": {
      "text/html": [
       "<div>\n",
       "<style scoped>\n",
       "    .dataframe tbody tr th:only-of-type {\n",
       "        vertical-align: middle;\n",
       "    }\n",
       "\n",
       "    .dataframe tbody tr th {\n",
       "        vertical-align: top;\n",
       "    }\n",
       "\n",
       "    .dataframe thead th {\n",
       "        text-align: right;\n",
       "    }\n",
       "</style>\n",
       "<table border=\"1\" class=\"dataframe\">\n",
       "  <thead>\n",
       "    <tr style=\"text-align: right;\">\n",
       "      <th></th>\n",
       "      <th>mean</th>\n",
       "      <th>var</th>\n",
       "      <th>std</th>\n",
       "    </tr>\n",
       "  </thead>\n",
       "  <tbody>\n",
       "    <tr>\n",
       "      <th>0</th>\n",
       "      <td>36.000</td>\n",
       "      <td>204.000</td>\n",
       "      <td>14.283</td>\n",
       "    </tr>\n",
       "  </tbody>\n",
       "</table>\n",
       "</div>"
      ],
      "text/plain": [
       "    mean     var    std\n",
       "0 36.000 204.000 14.283"
      ]
     },
     "execution_count": 544,
     "metadata": {},
     "output_type": "execute_result"
    }
   ],
   "source": [
    "mean = custm_dist.mean()\n",
    "var = custm_dist.var()\n",
    "std = custm_dist.std()\n",
    "\n",
    "pd.DataFrame(data=[[mean, var, std]], \n",
    "             columns=['mean',' var', 'std'])"
   ]
  },
  {
   "cell_type": "markdown",
   "id": "4f28af54",
   "metadata": {},
   "source": [
    "- Б) составить функцию распределения случайной величины $F(x)$ и построить ее график;"
   ]
  },
  {
   "cell_type": "code",
   "execution_count": 545,
   "id": "db8443d6",
   "metadata": {},
   "outputs": [
    {
     "data": {
      "text/plain": [
       "<AxesSubplot:xlabel='val', ylabel='Proportion'>"
      ]
     },
     "execution_count": 545,
     "metadata": {},
     "output_type": "execute_result"
    },
    {
     "data": {
      "image/png": "[encoded data removed]",
      "text/plain": [
       "<Figure size 432x288 with 1 Axes>"
      ]
     },
     "metadata": {
      "needs_background": "light"
     },
     "output_type": "display_data"
    }
   ],
   "source": [
    "sns.ecdfplot(data=df,  x='val', weights='prob')"
   ]
  },
  {
   "cell_type": "markdown",
   "id": "89cf7bea",
   "metadata": {},
   "source": [
    "- В) вычислить вероятности попадания случайной величины $X$ в интервал $x_2<X<x_4$, пользуясь составленной функцией распределения $F(x)$;"
   ]
  },
  {
   "cell_type": "code",
   "execution_count": 552,
   "id": "5b7e8671",
   "metadata": {},
   "outputs": [
    {
     "data": {
      "text/plain": [
       "0.3"
      ]
     },
     "execution_count": 552,
     "metadata": {},
     "output_type": "execute_result"
    }
   ],
   "source": [
    "round(custm_dist.cdf(39) - custm_dist.cdf(19), 2)"
   ]
  },
  {
   "cell_type": "markdown",
   "id": "8bf6e57f",
   "metadata": {},
   "source": [
    "- Г) составить закон распределения величины $Y=100−2X$;"
   ]
  },
  {
   "cell_type": "code",
   "execution_count": 555,
   "id": "68450921",
   "metadata": {},
   "outputs": [
    {
     "data": {
      "text/html": [
       "<div>\n",
       "<style scoped>\n",
       "    .dataframe tbody tr th:only-of-type {\n",
       "        vertical-align: middle;\n",
       "    }\n",
       "\n",
       "    .dataframe tbody tr th {\n",
       "        vertical-align: top;\n",
       "    }\n",
       "\n",
       "    .dataframe thead th {\n",
       "        text-align: right;\n",
       "    }\n",
       "</style>\n",
       "<table border=\"1\" class=\"dataframe\">\n",
       "  <thead>\n",
       "    <tr style=\"text-align: right;\">\n",
       "      <th></th>\n",
       "      <th>val</th>\n",
       "      <th>prob</th>\n",
       "      <th>y_i</th>\n",
       "    </tr>\n",
       "  </thead>\n",
       "  <tbody>\n",
       "    <tr>\n",
       "      <th>0</th>\n",
       "      <td>10</td>\n",
       "      <td>0.100</td>\n",
       "      <td>80</td>\n",
       "    </tr>\n",
       "    <tr>\n",
       "      <th>1</th>\n",
       "      <td>20</td>\n",
       "      <td>0.200</td>\n",
       "      <td>60</td>\n",
       "    </tr>\n",
       "    <tr>\n",
       "      <th>2</th>\n",
       "      <td>30</td>\n",
       "      <td>0.100</td>\n",
       "      <td>40</td>\n",
       "    </tr>\n",
       "    <tr>\n",
       "      <th>3</th>\n",
       "      <td>40</td>\n",
       "      <td>0.200</td>\n",
       "      <td>20</td>\n",
       "    </tr>\n",
       "    <tr>\n",
       "      <th>4</th>\n",
       "      <td>50</td>\n",
       "      <td>0.400</td>\n",
       "      <td>0</td>\n",
       "    </tr>\n",
       "  </tbody>\n",
       "</table>\n",
       "</div>"
      ],
      "text/plain": [
       "   val  prob  y_i\n",
       "0   10 0.100   80\n",
       "1   20 0.200   60\n",
       "2   30 0.100   40\n",
       "3   40 0.200   20\n",
       "4   50 0.400    0"
      ]
     },
     "execution_count": 555,
     "metadata": {},
     "output_type": "execute_result"
    }
   ],
   "source": [
    "df['y_i'] = 100 - 2 * df['val']\n",
    "df"
   ]
  },
  {
   "cell_type": "markdown",
   "id": "98d7da04",
   "metadata": {},
   "source": [
    "- Д) вычислить математическое ожидание и дисперсию составленной случайной величины  𝑌  двумя способами, т.е. пользуясь свойством математического ожидания и дисперсии, а также непосредственно по закону распределения случайной величины  𝑌 ."
   ]
  },
  {
   "cell_type": "code",
   "execution_count": 556,
   "id": "846deca1",
   "metadata": {},
   "outputs": [
    {
     "data": {
      "image/png": "[encoded data removed]",
      "text/plain": [
       "<Figure size 432x288 with 1 Axes>"
      ]
     },
     "metadata": {
      "needs_background": "light"
     },
     "output_type": "display_data"
    }
   ],
   "source": [
    "xk = df['y_i']\n",
    "pk = df['prob']\n",
    "custm_dist = stats.rv_discrete(name='cust_dist', values=(xk, pk))\n",
    "\n",
    "fig, ax = plt.subplots(1, 1)\n",
    "ax.plot(xk, custm_dist.pmf(xk))\n",
    "\n",
    "plt.show()"
   ]
  },
  {
   "cell_type": "code",
   "execution_count": 557,
   "id": "f21021c7",
   "metadata": {},
   "outputs": [
    {
     "data": {
      "text/html": [
       "<div>\n",
       "<style scoped>\n",
       "    .dataframe tbody tr th:only-of-type {\n",
       "        vertical-align: middle;\n",
       "    }\n",
       "\n",
       "    .dataframe tbody tr th {\n",
       "        vertical-align: top;\n",
       "    }\n",
       "\n",
       "    .dataframe thead th {\n",
       "        text-align: right;\n",
       "    }\n",
       "</style>\n",
       "<table border=\"1\" class=\"dataframe\">\n",
       "  <thead>\n",
       "    <tr style=\"text-align: right;\">\n",
       "      <th></th>\n",
       "      <th>mean</th>\n",
       "      <th>var</th>\n",
       "    </tr>\n",
       "  </thead>\n",
       "  <tbody>\n",
       "    <tr>\n",
       "      <th>0</th>\n",
       "      <td>28.000</td>\n",
       "      <td>816.000</td>\n",
       "    </tr>\n",
       "  </tbody>\n",
       "</table>\n",
       "</div>"
      ],
      "text/plain": [
       "    mean     var\n",
       "0 28.000 816.000"
      ]
     },
     "execution_count": 557,
     "metadata": {},
     "output_type": "execute_result"
    }
   ],
   "source": [
    "mean = custm_dist.mean()\n",
    "var = custm_dist.var()\n",
    "std = custm_dist.std()\n",
    "\n",
    "pd.DataFrame(data=[[mean, var]], \n",
    "             columns=['mean',' var'])"
   ]
  },
  {
   "cell_type": "markdown",
   "id": "65cfa216",
   "metadata": {},
   "source": [
    "## Задача 7.\n",
    "\n",
    "Дискретная случайная величина задана таблице. Вычислить ее начальные и центральные моменты до 4 порядка включительно. Найти вероятности событий ξ<Mξ, ξ≥Mξ, ξ<1/2Mξ, ξ≥1/2Mξ.\n",
    "X 0 0,3 0,6 0,9 1,2\n",
    "P 0,2 0,4 0,2 0,1 0,1"
   ]
  }
 ],
 "metadata": {
  "kernelspec": {
   "display_name": "Python 3",
   "language": "python",
   "name": "python3"
  },
  "language_info": {
   "codemirror_mode": {
    "name": "ipython",
    "version": 3
   },
   "file_extension": ".py",
   "mimetype": "text/x-python",
   "name": "python",
   "nbconvert_exporter": "python",
   "pygments_lexer": "ipython3",
   "version": "3.9.4"
  }
 },
 "nbformat": 4,
 "nbformat_minor": 5
}
