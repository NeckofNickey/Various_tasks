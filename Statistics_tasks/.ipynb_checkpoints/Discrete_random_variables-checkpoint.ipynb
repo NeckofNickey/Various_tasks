{
 "cells": [
  {
   "cell_type": "code",
   "execution_count": 226,
   "id": "4436bdae",
   "metadata": {},
   "outputs": [],
   "source": [
    "import pandas as pd\n",
    "import numpy as np\n",
    "\n",
    "from tkinter import filedialog as fd\n",
    "from tkinter import Tk, BOTH\n",
    "\n",
    "from datetime import datetime\n",
    "from datetime import timedelta\n",
    "\n",
    "from scipy import stats\n",
    "from sympy import *\n",
    "\n",
    "import seaborn as sns\n",
    "import matplotlib.pyplot as plt\n",
    "\n",
    "\n",
    "pd.options.display.float_format = '{:,.3f}'.format\n",
    "\n",
    "import warnings\n",
    "warnings.filterwarnings(\"ignore\")"
   ]
  },
  {
   "cell_type": "markdown",
   "id": "095e3eb1",
   "metadata": {},
   "source": [
    "## Задача 1. \n",
    "Дискретная случайная величина задана рядом распределения:\n",
    "\n",
    "\n",
    "| 1 | 2 | 3 | 4 | 5 | 6 | 7 |\n",
    "| --- | --- | --- | --- | --- | --- | --- | \n",
    "| 0.05 | 0.15 | 0.3 | 0.2 | 0.1 | 0.04 | 0.16\n",
    "\n",
    "Построить многоугольник распределения и функцию распределения $F(x)$. Вычислить: $M[X],D[X],σ[X]$, а также коэффициент вариации, асимметрии, эксцесса, моду и медиану."
   ]
  },
  {
   "cell_type": "code",
   "execution_count": 334,
   "id": "361cb318",
   "metadata": {},
   "outputs": [],
   "source": [
    "df = pd.DataFrame({'val':np.arange(1, 8),\n",
    "                  'prob':np.array([0.05, 0.15, 0.3, 0.2, 0.1, 0.04, 0.16])})"
   ]
  },
  {
   "cell_type": "code",
   "execution_count": 335,
   "id": "60702d02",
   "metadata": {},
   "outputs": [
    {
     "data": {
      "text/html": [
       "<div>\n",
       "<style scoped>\n",
       "    .dataframe tbody tr th:only-of-type {\n",
       "        vertical-align: middle;\n",
       "    }\n",
       "\n",
       "    .dataframe tbody tr th {\n",
       "        vertical-align: top;\n",
       "    }\n",
       "\n",
       "    .dataframe thead th {\n",
       "        text-align: right;\n",
       "    }\n",
       "</style>\n",
       "<table border=\"1\" class=\"dataframe\">\n",
       "  <thead>\n",
       "    <tr style=\"text-align: right;\">\n",
       "      <th></th>\n",
       "      <th>val</th>\n",
       "      <th>prob</th>\n",
       "    </tr>\n",
       "  </thead>\n",
       "  <tbody>\n",
       "    <tr>\n",
       "      <th>0</th>\n",
       "      <td>1</td>\n",
       "      <td>0.050</td>\n",
       "    </tr>\n",
       "    <tr>\n",
       "      <th>1</th>\n",
       "      <td>2</td>\n",
       "      <td>0.150</td>\n",
       "    </tr>\n",
       "    <tr>\n",
       "      <th>2</th>\n",
       "      <td>3</td>\n",
       "      <td>0.300</td>\n",
       "    </tr>\n",
       "    <tr>\n",
       "      <th>3</th>\n",
       "      <td>4</td>\n",
       "      <td>0.200</td>\n",
       "    </tr>\n",
       "    <tr>\n",
       "      <th>4</th>\n",
       "      <td>5</td>\n",
       "      <td>0.100</td>\n",
       "    </tr>\n",
       "    <tr>\n",
       "      <th>5</th>\n",
       "      <td>6</td>\n",
       "      <td>0.040</td>\n",
       "    </tr>\n",
       "    <tr>\n",
       "      <th>6</th>\n",
       "      <td>7</td>\n",
       "      <td>0.160</td>\n",
       "    </tr>\n",
       "  </tbody>\n",
       "</table>\n",
       "</div>"
      ],
      "text/plain": [
       "   val  prob\n",
       "0    1 0.050\n",
       "1    2 0.150\n",
       "2    3 0.300\n",
       "3    4 0.200\n",
       "4    5 0.100\n",
       "5    6 0.040\n",
       "6    7 0.160"
      ]
     },
     "execution_count": 335,
     "metadata": {},
     "output_type": "execute_result"
    }
   ],
   "source": [
    "df"
   ]
  },
  {
   "cell_type": "markdown",
   "id": "5b3b807b",
   "metadata": {},
   "source": [
    "#### Многоугольник распределения"
   ]
  },
  {
   "cell_type": "code",
   "execution_count": 336,
   "id": "f00b9ac8",
   "metadata": {},
   "outputs": [
    {
     "data": {
      "text/plain": [
       "<AxesSubplot:xlabel='val'>"
      ]
     },
     "execution_count": 336,
     "metadata": {},
     "output_type": "execute_result"
    },
    {
     "data": {
      "image/png": "[encoded data removed]",
      "text/plain": [
       "<Figure size 432x288 with 1 Axes>"
      ]
     },
     "metadata": {
      "needs_background": "light"
     },
     "output_type": "display_data"
    }
   ],
   "source": [
    "df.plot(x='val', y='prob')"
   ]
  },
  {
   "cell_type": "markdown",
   "id": "e43a3b8d",
   "metadata": {},
   "source": [
    "#### Функция распределения F(x)"
   ]
  },
  {
   "cell_type": "code",
   "execution_count": 337,
   "id": "63125454",
   "metadata": {},
   "outputs": [
    {
     "data": {
      "text/plain": [
       "<AxesSubplot:xlabel='val', ylabel='Density'>"
      ]
     },
     "execution_count": 337,
     "metadata": {},
     "output_type": "execute_result"
    },
    {
     "data": {
      "image/png": "[encoded data removed]",
      "text/plain": [
       "<Figure size 432x288 with 1 Axes>"
      ]
     },
     "metadata": {
      "needs_background": "light"
     },
     "output_type": "display_data"
    }
   ],
   "source": [
    "sns.kdeplot(df['val'], cumulative=True)"
   ]
  },
  {
   "cell_type": "code",
   "execution_count": 338,
   "id": "cadd4885",
   "metadata": {},
   "outputs": [],
   "source": [
    "df['cumulative'] = np.cumsum(df['prob'])"
   ]
  },
  {
   "cell_type": "code",
   "execution_count": 339,
   "id": "841c12aa",
   "metadata": {},
   "outputs": [
    {
     "data": {
      "text/plain": [
       "<AxesSubplot:xlabel='val'>"
      ]
     },
     "execution_count": 339,
     "metadata": {},
     "output_type": "execute_result"
    },
    {
     "data": {
      "image/png": "[encoded data removed]",
      "text/plain": [
       "<Figure size 432x288 with 1 Axes>"
      ]
     },
     "metadata": {
      "needs_background": "light"
     },
     "output_type": "display_data"
    }
   ],
   "source": [
    "df.plot(x='val', y='cumulative')"
   ]
  },
  {
   "cell_type": "markdown",
   "id": "be22772e",
   "metadata": {},
   "source": [
    "#### Подсчет базовых статистик"
   ]
  },
  {
   "cell_type": "code",
   "execution_count": 340,
   "id": "a0f72d5c",
   "metadata": {},
   "outputs": [],
   "source": [
    "def calc_math_expect(val:np.array, prob:np.array) -> float:\n",
    "    temp = val * prob\n",
    "    return temp.sum()\n",
    "\n",
    "def calc_variance(val:np.array, prob:np.array, mean:float) -> float:\n",
    "    temp = ((val - mean)**2)*prob\n",
    "    return temp.sum()\n",
    "\n",
    "def calc_screw(val:np.array, prob:np.array, mean:float, std:float) -> float:\n",
    "    temp = ((val - mean)**3)*prob\n",
    "    screw = temp.sum()/std**3\n",
    "    return screw\n",
    "\n",
    "def calc_kurtosis(val:np.array, prob:np.array, mean:float, std:float) -> float:\n",
    "    temp = ((val - mean)**4)*prob\n",
    "    kurtosis = (temp.sum()/std**4) - 3\n",
    "    return kurtosis\n",
    "\n",
    "def calc_mode(val:np.array, prob:np.array) -> int:\n",
    "    index = np.where(np.isclose(prob, prob.max()))[0][0]\n",
    "    return val[index]\n",
    "\n",
    "def calc_coef_var(mean:float, std:float) -> float:\n",
    "    return std/mean*100"
   ]
  },
  {
   "cell_type": "code",
   "execution_count": 341,
   "id": "ae031385",
   "metadata": {},
   "outputs": [],
   "source": [
    "mean = calc_math_expect(df['val'], df['prob'])\n",
    "\n",
    "var = calc_variance(df['val'], df['prob'], mean)\n",
    "\n",
    "std = np.sqrt(var) \n",
    "\n",
    "screw = calc_screw(df['val'], df['prob'], mean, std)\n",
    "\n",
    "kurtosis = calc_kurtosis(df['val'], df['prob'], mean, std)\n",
    "\n",
    "mode = calc_mode(df['val'], df['prob'])\n",
    "\n",
    "median = np.median(df['val'])\n",
    "\n",
    "coef_var = calc_coef_var(mean, std)"
   ]
  },
  {
   "cell_type": "code",
   "execution_count": 342,
   "id": "91ace570",
   "metadata": {},
   "outputs": [
    {
     "data": {
      "text/html": [
       "<div>\n",
       "<style scoped>\n",
       "    .dataframe tbody tr th:only-of-type {\n",
       "        vertical-align: middle;\n",
       "    }\n",
       "\n",
       "    .dataframe tbody tr th {\n",
       "        vertical-align: top;\n",
       "    }\n",
       "\n",
       "    .dataframe thead th {\n",
       "        text-align: right;\n",
       "    }\n",
       "</style>\n",
       "<table border=\"1\" class=\"dataframe\">\n",
       "  <thead>\n",
       "    <tr style=\"text-align: right;\">\n",
       "      <th></th>\n",
       "      <th>mean</th>\n",
       "      <th>var</th>\n",
       "      <th>std</th>\n",
       "      <th>screw</th>\n",
       "      <th>kurtosis</th>\n",
       "      <th>mode</th>\n",
       "      <th>median</th>\n",
       "      <th>coef_var</th>\n",
       "    </tr>\n",
       "  </thead>\n",
       "  <tbody>\n",
       "    <tr>\n",
       "      <th>0</th>\n",
       "      <td>3.910</td>\n",
       "      <td>3.042</td>\n",
       "      <td>1.744</td>\n",
       "      <td>0.511</td>\n",
       "      <td>-0.700</td>\n",
       "      <td>3</td>\n",
       "      <td>4.000</td>\n",
       "      <td>44.606</td>\n",
       "    </tr>\n",
       "  </tbody>\n",
       "</table>\n",
       "</div>"
      ],
      "text/plain": [
       "   mean   var   std  screw  kurtosis  mode  median  coef_var\n",
       "0 3.910 3.042 1.744  0.511    -0.700     3   4.000    44.606"
      ]
     },
     "execution_count": 342,
     "metadata": {},
     "output_type": "execute_result"
    }
   ],
   "source": [
    "pd.DataFrame(data=[[mean, var, std, screw, kurtosis, mode, median, coef_var]], \n",
    "             columns=['mean',' var', 'std', 'screw', 'kurtosis', 'mode', 'median', 'coef_var'])"
   ]
  },
  {
   "cell_type": "code",
   "execution_count": 344,
   "id": "7f2d2c30",
   "metadata": {},
   "outputs": [
    {
     "data": {
      "text/plain": [
       "3.91"
      ]
     },
     "execution_count": 344,
     "metadata": {},
     "output_type": "execute_result"
    }
   ],
   "source": [
    "np.average(df['val'], weights=df['prob'])"
   ]
  },
  {
   "cell_type": "markdown",
   "id": "fc5a4700",
   "metadata": {},
   "source": [
    "## Задача 2. \n",
    "Для случайной величины $Х$ с данным рядом распределения\n",
    "\n",
    "| -1 | 0  | 1 | 8 |\n",
    "| --- | --- | --- | --- |\n",
    "| 0,2 | 0,1 | р1 | р2 |\n",
    "\n",
    "А) найдите $р1$ и $р2$ так, чтобы $М(Х)=0,5$\n",
    "\n",
    "Б) после этого вычислите математическое ожидание и дисперсию случайной величины $Х$ и постройте график ее функции распределения"
   ]
  },
  {
   "cell_type": "markdown",
   "id": "67a59a78",
   "metadata": {},
   "source": [
    "#### Находим р1 и р2 так, чтобы М(Х)=0,5"
   ]
  },
  {
   "cell_type": "code",
   "execution_count": 373,
   "id": "4e29e8b6",
   "metadata": {},
   "outputs": [],
   "source": [
    "mean = 0.5\n",
    "\n",
    "p_1, p_2 = symbols('p_1 p_2')\n",
    "\n",
    "df = pd.DataFrame({'val':np.array([-1, 0, 1, 8]),\n",
    "                  'prob':np.array([0.2, 0.1, p_1, p_2])})"
   ]
  },
  {
   "cell_type": "code",
   "execution_count": 374,
   "id": "66b1de14",
   "metadata": {},
   "outputs": [],
   "source": [
    "from typing import Tuple\n",
    "\n",
    "def find_miss_prob(val:np.array, prob:np.array, mean:float, *args) -> Tuple[float, float]:\n",
    "    a = Eq((val * prob).sum(), mean)\n",
    "    b = Eq(prob.sum(), 1)\n",
    "    return linsolve((a, b), (args)).args[0]\n",
    "    "
   ]
  },
  {
   "cell_type": "code",
   "execution_count": 375,
   "id": "e3a072f1",
   "metadata": {},
   "outputs": [],
   "source": [
    "p_1, p_2 = find_miss_prob(df['val'], df['prob'], 0.5, p_1, p_2)"
   ]
  },
  {
   "cell_type": "code",
   "execution_count": 376,
   "id": "ba450de1",
   "metadata": {},
   "outputs": [],
   "source": [
    "df.loc[df['prob']==symbols('p_1'), 'prob'] = float(p_1)\n",
    "df.loc[df['prob']==symbols('p_2'), 'prob'] = float(p_2)"
   ]
  },
  {
   "cell_type": "code",
   "execution_count": 377,
   "id": "988a3a69",
   "metadata": {},
   "outputs": [
    {
     "data": {
      "text/html": [
       "<div>\n",
       "<style scoped>\n",
       "    .dataframe tbody tr th:only-of-type {\n",
       "        vertical-align: middle;\n",
       "    }\n",
       "\n",
       "    .dataframe tbody tr th {\n",
       "        vertical-align: top;\n",
       "    }\n",
       "\n",
       "    .dataframe thead th {\n",
       "        text-align: right;\n",
       "    }\n",
       "</style>\n",
       "<table border=\"1\" class=\"dataframe\">\n",
       "  <thead>\n",
       "    <tr style=\"text-align: right;\">\n",
       "      <th></th>\n",
       "      <th>val</th>\n",
       "      <th>prob</th>\n",
       "    </tr>\n",
       "  </thead>\n",
       "  <tbody>\n",
       "    <tr>\n",
       "      <th>0</th>\n",
       "      <td>-1</td>\n",
       "      <td>0.200</td>\n",
       "    </tr>\n",
       "    <tr>\n",
       "      <th>1</th>\n",
       "      <td>0</td>\n",
       "      <td>0.100</td>\n",
       "    </tr>\n",
       "    <tr>\n",
       "      <th>2</th>\n",
       "      <td>1</td>\n",
       "      <td>0.700</td>\n",
       "    </tr>\n",
       "    <tr>\n",
       "      <th>3</th>\n",
       "      <td>8</td>\n",
       "      <td>0.000</td>\n",
       "    </tr>\n",
       "  </tbody>\n",
       "</table>\n",
       "</div>"
      ],
      "text/plain": [
       "   val  prob\n",
       "0   -1 0.200\n",
       "1    0 0.100\n",
       "2    1 0.700\n",
       "3    8 0.000"
      ]
     },
     "execution_count": 377,
     "metadata": {},
     "output_type": "execute_result"
    }
   ],
   "source": [
    "df"
   ]
  },
  {
   "cell_type": "markdown",
   "id": "b50ed756",
   "metadata": {},
   "source": [
    "#### Вычисляем математическое ожидание и дисперсию случайной величины Х и строим график ее функции распределения"
   ]
  },
  {
   "cell_type": "code",
   "execution_count": 378,
   "id": "c1a09a1d",
   "metadata": {},
   "outputs": [],
   "source": [
    "mean = np.average(df['val'], weights=df['prob'])\n",
    "\n",
    "var = calc_variance(df['val'], df['prob'], mean)"
   ]
  },
  {
   "cell_type": "code",
   "execution_count": 379,
   "id": "ec522b66",
   "metadata": {},
   "outputs": [
    {
     "data": {
      "text/html": [
       "<div>\n",
       "<style scoped>\n",
       "    .dataframe tbody tr th:only-of-type {\n",
       "        vertical-align: middle;\n",
       "    }\n",
       "\n",
       "    .dataframe tbody tr th {\n",
       "        vertical-align: top;\n",
       "    }\n",
       "\n",
       "    .dataframe thead th {\n",
       "        text-align: right;\n",
       "    }\n",
       "</style>\n",
       "<table border=\"1\" class=\"dataframe\">\n",
       "  <thead>\n",
       "    <tr style=\"text-align: right;\">\n",
       "      <th></th>\n",
       "      <th>mean</th>\n",
       "      <th>var</th>\n",
       "    </tr>\n",
       "  </thead>\n",
       "  <tbody>\n",
       "    <tr>\n",
       "      <th>0</th>\n",
       "      <td>0.500</td>\n",
       "      <td>0.650</td>\n",
       "    </tr>\n",
       "  </tbody>\n",
       "</table>\n",
       "</div>"
      ],
      "text/plain": [
       "   mean   var\n",
       "0 0.500 0.650"
      ]
     },
     "execution_count": 379,
     "metadata": {},
     "output_type": "execute_result"
    }
   ],
   "source": [
    "pd.DataFrame(data=[[mean, var]], \n",
    "             columns=['mean',' var'])"
   ]
  },
  {
   "cell_type": "code",
   "execution_count": 380,
   "id": "c826dc20",
   "metadata": {},
   "outputs": [
    {
     "data": {
      "text/plain": [
       "<AxesSubplot:xlabel='val'>"
      ]
     },
     "execution_count": 380,
     "metadata": {},
     "output_type": "execute_result"
    },
    {
     "data": {
      "image/png": "[encoded data removed]",
      "text/plain": [
       "<Figure size 432x288 with 1 Axes>"
      ]
     },
     "metadata": {
      "needs_background": "light"
     },
     "output_type": "display_data"
    }
   ],
   "source": [
    "df['cumulative'] = np.cumsum(df['prob'])\n",
    "\n",
    "df.plot(x='val', y='cumulative')"
   ]
  },
  {
   "cell_type": "code",
   "execution_count": 381,
   "id": "b1ef78c5",
   "metadata": {},
   "outputs": [
    {
     "data": {
      "text/html": [
       "<div>\n",
       "<style scoped>\n",
       "    .dataframe tbody tr th:only-of-type {\n",
       "        vertical-align: middle;\n",
       "    }\n",
       "\n",
       "    .dataframe tbody tr th {\n",
       "        vertical-align: top;\n",
       "    }\n",
       "\n",
       "    .dataframe thead th {\n",
       "        text-align: right;\n",
       "    }\n",
       "</style>\n",
       "<table border=\"1\" class=\"dataframe\">\n",
       "  <thead>\n",
       "    <tr style=\"text-align: right;\">\n",
       "      <th></th>\n",
       "      <th>val</th>\n",
       "      <th>prob</th>\n",
       "      <th>cumulative</th>\n",
       "    </tr>\n",
       "  </thead>\n",
       "  <tbody>\n",
       "    <tr>\n",
       "      <th>0</th>\n",
       "      <td>-1</td>\n",
       "      <td>0.200</td>\n",
       "      <td>0.200</td>\n",
       "    </tr>\n",
       "    <tr>\n",
       "      <th>1</th>\n",
       "      <td>0</td>\n",
       "      <td>0.100</td>\n",
       "      <td>0.300</td>\n",
       "    </tr>\n",
       "    <tr>\n",
       "      <th>2</th>\n",
       "      <td>1</td>\n",
       "      <td>0.700</td>\n",
       "      <td>1.000</td>\n",
       "    </tr>\n",
       "    <tr>\n",
       "      <th>3</th>\n",
       "      <td>8</td>\n",
       "      <td>0.000</td>\n",
       "      <td>1.000</td>\n",
       "    </tr>\n",
       "  </tbody>\n",
       "</table>\n",
       "</div>"
      ],
      "text/plain": [
       "   val  prob cumulative\n",
       "0   -1 0.200      0.200\n",
       "1    0 0.100      0.300\n",
       "2    1 0.700      1.000\n",
       "3    8 0.000      1.000"
      ]
     },
     "execution_count": 381,
     "metadata": {},
     "output_type": "execute_result"
    }
   ],
   "source": [
    "df"
   ]
  },
  {
   "cell_type": "markdown",
   "id": "6c6cb851",
   "metadata": {},
   "source": [
    "## Задача 3\n",
    "Задача. Дискретная СВ $X$ может принимать только два значения: $x_1$ и $x_2$, причем $x_1$ < $x_2$.\n",
    "Известны вероятность $P$ возможного значения, математическое ожидание $M(x)$ и дисперсия $D(x)$. \n",
    "\n",
    "Найти: \n",
    "1) Закон распределения этой случайной величины; \n",
    "\n",
    "2) Функцию распределения СВ $X$; \n",
    "\n",
    "3) Построить график $F(x)$.\n",
    "\n",
    "$P = 0,3; \n",
    "M(x) = 6,6; \n",
    "D(x) = 13,44.$ "
   ]
  },
  {
   "cell_type": "markdown",
   "id": "fd146eac",
   "metadata": {},
   "source": [
    "#### 1) Закон распределения этой случайной величины"
   ]
  },
  {
   "cell_type": "code",
   "execution_count": 391,
   "id": "b1d89002",
   "metadata": {},
   "outputs": [],
   "source": [
    "mean = 6.6\n",
    "var = 13.44\n",
    "P = 0.3\n",
    "\n",
    "\n",
    "x_1, x_2 = symbols('x_1 x_2')\n",
    "\n",
    "df = pd.DataFrame({'val':np.array([x_1, x_2]),\n",
    "                  'prob':np.array([P, 1-P])})"
   ]
  },
  {
   "cell_type": "code",
   "execution_count": 392,
   "id": "6f07d2b7",
   "metadata": {},
   "outputs": [
    {
     "data": {
      "text/html": [
       "<div>\n",
       "<style scoped>\n",
       "    .dataframe tbody tr th:only-of-type {\n",
       "        vertical-align: middle;\n",
       "    }\n",
       "\n",
       "    .dataframe tbody tr th {\n",
       "        vertical-align: top;\n",
       "    }\n",
       "\n",
       "    .dataframe thead th {\n",
       "        text-align: right;\n",
       "    }\n",
       "</style>\n",
       "<table border=\"1\" class=\"dataframe\">\n",
       "  <thead>\n",
       "    <tr style=\"text-align: right;\">\n",
       "      <th></th>\n",
       "      <th>val</th>\n",
       "      <th>prob</th>\n",
       "    </tr>\n",
       "  </thead>\n",
       "  <tbody>\n",
       "    <tr>\n",
       "      <th>0</th>\n",
       "      <td>x_1</td>\n",
       "      <td>0.300</td>\n",
       "    </tr>\n",
       "    <tr>\n",
       "      <th>1</th>\n",
       "      <td>x_2</td>\n",
       "      <td>0.700</td>\n",
       "    </tr>\n",
       "  </tbody>\n",
       "</table>\n",
       "</div>"
      ],
      "text/plain": [
       "   val  prob\n",
       "0  x_1 0.300\n",
       "1  x_2 0.700"
      ]
     },
     "execution_count": 392,
     "metadata": {},
     "output_type": "execute_result"
    }
   ],
   "source": [
    "df"
   ]
  },
  {
   "cell_type": "code",
   "execution_count": 425,
   "id": "eb702bb6",
   "metadata": {},
   "outputs": [],
   "source": [
    "def calc_miss_val(val:np.array, prob:np.array, mean:float, var:float, *args) -> Tuple[float, float]:\n",
    "    a = simplify(Eq((val * prob).sum(), mean))\n",
    "    b = Eq((((df['val']-mean)**2)*df['prob']).sum(), var)\n",
    "    return nonlinsolve((a, b), (args))"
   ]
  },
  {
   "cell_type": "code",
   "execution_count": 426,
   "id": "c1106862",
   "metadata": {},
   "outputs": [
    {
     "data": {
      "text/latex": [
       "$\\displaystyle \\left\\{\\left( 1.0, \\  9.0\\right), \\left( 12.2, \\  4.2\\right)\\right\\}$"
      ],
      "text/plain": [
       "{(1.0, 9.0), (12.2, 4.2)}"
      ]
     },
     "execution_count": 426,
     "metadata": {},
     "output_type": "execute_result"
    }
   ],
   "source": [
    "calc_miss_val(df['val'], df['prob'], mean, var, x_1, x_2)"
   ]
  },
  {
   "cell_type": "code",
   "execution_count": null,
   "id": "e1565003",
   "metadata": {},
   "outputs": [],
   "source": []
  }
 ],
 "metadata": {
  "kernelspec": {
   "display_name": "Python 3",
   "language": "python",
   "name": "python3"
  },
  "language_info": {
   "codemirror_mode": {
    "name": "ipython",
    "version": 3
   },
   "file_extension": ".py",
   "mimetype": "text/x-python",
   "name": "python",
   "nbconvert_exporter": "python",
   "pygments_lexer": "ipython3",
   "version": "3.9.4"
  }
 },
 "nbformat": 4,
 "nbformat_minor": 5
}
