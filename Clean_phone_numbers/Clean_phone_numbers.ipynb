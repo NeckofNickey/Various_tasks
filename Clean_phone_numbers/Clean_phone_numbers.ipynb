{
 "cells": [
  {
   "cell_type": "markdown",
   "id": "06fcfe5f",
   "metadata": {},
   "source": [
    "# Задача\n",
    "\n",
    "Международный сервис по продаже билетов решил подвести итоги театрального сезона. В качестве одной из метрик руководитель проекта хочет посчитать количество пользователей, которые покупали билеты на разные спектакли.\n",
    "\n",
    "При покупке билета пользователь указывает номер своего телефона. Необходимо найти спектакль с наибольшим числом уникальных телефонных номеров. И посчитать количество соответствующих уникальных телефонных номеров."
   ]
  },
  {
   "cell_type": "code",
   "execution_count": 10,
   "id": "35e8fcfe",
   "metadata": {},
   "outputs": [],
   "source": [
    "import pandas as pd\n",
    "import numpy as np\n",
    "from tkinter import filedialog as fd\n",
    "from tkinter import Tk, BOTH\n",
    "from datetime import datetime\n",
    "from datetime import timedelta\n",
    "import re\n",
    "\n",
    "regex = \"[a-zA-Zа-яА-ЯёЁ]+$\"\n",
    "\n",
    "pattern = re.compile(regex)\n",
    "\n",
    "import warnings\n",
    "warnings.filterwarnings(\"ignore\")"
   ]
  },
  {
   "cell_type": "markdown",
   "id": "f2193259",
   "metadata": {},
   "source": [
    "## Импортируем данные"
   ]
  },
  {
   "cell_type": "code",
   "execution_count": 87,
   "id": "73517d64",
   "metadata": {},
   "outputs": [],
   "source": [
    "root = Tk()\n",
    "\n",
    "ticket = fd.askopenfilename()\n",
    "\n",
    "ticket_data = pd.read_csv(ticket, sep=',', encoding='utf-8', header=None)\n",
    "\n",
    "root.destroy()"
   ]
  },
  {
   "cell_type": "markdown",
   "id": "9df84b65",
   "metadata": {},
   "source": [
    "## Добавляем названия столбцов"
   ]
  },
  {
   "cell_type": "code",
   "execution_count": 88,
   "id": "09754c47",
   "metadata": {},
   "outputs": [],
   "source": [
    "ticket_data.columns = ['Спектакль', 'Номер_телефона']"
   ]
  },
  {
   "cell_type": "markdown",
   "id": "609f0a9d",
   "metadata": {},
   "source": [
    "## Очищаем номера от лишних символов, в том числе букв"
   ]
  },
  {
   "cell_type": "code",
   "execution_count": 89,
   "id": "b3e47112",
   "metadata": {},
   "outputs": [],
   "source": [
    "incorrect_numbers = []\n",
    "\n",
    "letters_to_number_dict = {\n",
    "    'a': 2, 'b': 2, 'c': 2, 'd': 3, 'e': 3, 'f': 3, 'g': 4, 'h': 4, 'i': 4, 'j': 5, 'k': 5, 'l': 5, 'm': 6, 'n': 6,\n",
    "    'o': 6, 'p': 7, 'q': 7, 'r': 7, 's': 7, 't': 8, 'u': 8, 'v': 8, 'w': 9, 'x': 9, 'y': 9, 'z': 9}\n",
    "\n",
    "def replace_letter_to_number(char):\n",
    "    \"\"\"\n",
    "    Функция проверяет символ и в случае если символ это буква, \n",
    "    возвращает соответствующую цифру из словаря letters_to_number_dict\n",
    "    \"\"\"\n",
    "    if char.isnumeric():\n",
    "        return char\n",
    "    elif pattern.search(char):\n",
    "        return letters_to_number_dict[char]\n",
    "    else:\n",
    "        return char\n",
    "            \n",
    "\n",
    "\n",
    "def fix_phone_number(phone):\n",
    "    \"\"\"\n",
    "    Функция сначала проверяет на наличие букв в телефонном номере (по формату США),\n",
    "    если находит буквы, то заменяет их цифрами из словаря letters_to_number_dict.\n",
    "    После этого извлекает из строки с номером только цифры, проверяет длину \n",
    "    и возвращает корректный номер телефона без первой 8 или 7 (если есть 7).\n",
    "    \"\"\"\n",
    "    \n",
    "    if pattern.search(phone) is not None:\n",
    "        s_1 = [replace_letter_to_number(letter) for letter in phone]\n",
    "        phone = ''.join([str(s) for s in s_1])\n",
    "\n",
    "    phone = ''.join(filter(str.isdigit, phone))\n",
    "    if len(phone) < 10:\n",
    "        incorrect_numbers.append(phone)\n",
    "        return\n",
    "    return phone[1:]"
   ]
  },
  {
   "cell_type": "code",
   "execution_count": 90,
   "id": "09eb8188",
   "metadata": {},
   "outputs": [],
   "source": [
    "new_ticket_data = ticket_data.copy()"
   ]
  },
  {
   "cell_type": "code",
   "execution_count": 92,
   "id": "d2c43e7a",
   "metadata": {},
   "outputs": [],
   "source": [
    "new_ticket_data['Отформатированный_номер_телефона'] = new_ticket_data['Номер_телефона'].apply(fix_phone_number)"
   ]
  },
  {
   "cell_type": "code",
   "execution_count": 93,
   "id": "9024350a",
   "metadata": {},
   "outputs": [
    {
     "data": {
      "text/html": [
       "<div>\n",
       "<style scoped>\n",
       "    .dataframe tbody tr th:only-of-type {\n",
       "        vertical-align: middle;\n",
       "    }\n",
       "\n",
       "    .dataframe tbody tr th {\n",
       "        vertical-align: top;\n",
       "    }\n",
       "\n",
       "    .dataframe thead th {\n",
       "        text-align: right;\n",
       "    }\n",
       "</style>\n",
       "<table border=\"1\" class=\"dataframe\">\n",
       "  <thead>\n",
       "    <tr style=\"text-align: right;\">\n",
       "      <th></th>\n",
       "      <th>Спектакль</th>\n",
       "      <th>Номер_телефона</th>\n",
       "      <th>Отформатированный_номер_телефона</th>\n",
       "    </tr>\n",
       "  </thead>\n",
       "  <tbody>\n",
       "    <tr>\n",
       "      <th>0</th>\n",
       "      <td>Кошки</td>\n",
       "      <td>+88029264576</td>\n",
       "      <td>8029264576</td>\n",
       "    </tr>\n",
       "    <tr>\n",
       "      <th>1</th>\n",
       "      <td>Норма</td>\n",
       "      <td>8805-630-71-19</td>\n",
       "      <td>8056307119</td>\n",
       "    </tr>\n",
       "    <tr>\n",
       "      <th>2</th>\n",
       "      <td>Евгений Онегин</td>\n",
       "      <td>8-(802)-235-30-28</td>\n",
       "      <td>8022353028</td>\n",
       "    </tr>\n",
       "    <tr>\n",
       "      <th>3</th>\n",
       "      <td>Вестсайдская история</td>\n",
       "      <td>8-803-151-78-95</td>\n",
       "      <td>8031517895</td>\n",
       "    </tr>\n",
       "    <tr>\n",
       "      <th>4</th>\n",
       "      <td>Дон Кихот</td>\n",
       "      <td>8-802-311-48-72</td>\n",
       "      <td>8023114872</td>\n",
       "    </tr>\n",
       "    <tr>\n",
       "      <th>...</th>\n",
       "      <td>...</td>\n",
       "      <td>...</td>\n",
       "      <td>...</td>\n",
       "    </tr>\n",
       "    <tr>\n",
       "      <th>3518</th>\n",
       "      <td>Кармен</td>\n",
       "      <td>8805-642-18-91</td>\n",
       "      <td>8056421891</td>\n",
       "    </tr>\n",
       "    <tr>\n",
       "      <th>3519</th>\n",
       "      <td>Баядерка</td>\n",
       "      <td>8-802-618-97-14</td>\n",
       "      <td>8026189714</td>\n",
       "    </tr>\n",
       "    <tr>\n",
       "      <th>3520</th>\n",
       "      <td>Кармен</td>\n",
       "      <td>+88034956301</td>\n",
       "      <td>8034956301</td>\n",
       "    </tr>\n",
       "    <tr>\n",
       "      <th>3521</th>\n",
       "      <td>Вестсайдская история</td>\n",
       "      <td>+88078994876</td>\n",
       "      <td>8078994876</td>\n",
       "    </tr>\n",
       "    <tr>\n",
       "      <th>3522</th>\n",
       "      <td>Спартак</td>\n",
       "      <td>+88011779272</td>\n",
       "      <td>8011779272</td>\n",
       "    </tr>\n",
       "  </tbody>\n",
       "</table>\n",
       "<p>3523 rows × 3 columns</p>\n",
       "</div>"
      ],
      "text/plain": [
       "                 Спектакль     Номер_телефона Отформатированный_номер_телефона\n",
       "0                    Кошки       +88029264576                       8029264576\n",
       "1                    Норма     8805-630-71-19                       8056307119\n",
       "2           Евгений Онегин  8-(802)-235-30-28                       8022353028\n",
       "3     Вестсайдская история    8-803-151-78-95                       8031517895\n",
       "4                Дон Кихот    8-802-311-48-72                       8023114872\n",
       "...                    ...                ...                              ...\n",
       "3518                Кармен     8805-642-18-91                       8056421891\n",
       "3519              Баядерка    8-802-618-97-14                       8026189714\n",
       "3520                Кармен       +88034956301                       8034956301\n",
       "3521  Вестсайдская история       +88078994876                       8078994876\n",
       "3522               Спартак       +88011779272                       8011779272\n",
       "\n",
       "[3523 rows x 3 columns]"
      ]
     },
     "execution_count": 93,
     "metadata": {},
     "output_type": "execute_result"
    }
   ],
   "source": [
    "new_ticket_data"
   ]
  },
  {
   "cell_type": "markdown",
   "id": "2f6fa033",
   "metadata": {},
   "source": [
    "## Находим спектакль с наибольшим числом уникальных телефонных номеров и считаем их количество"
   ]
  },
  {
   "cell_type": "code",
   "execution_count": 105,
   "id": "b0a2e9cb",
   "metadata": {},
   "outputs": [
    {
     "data": {
      "text/html": [
       "<div>\n",
       "<style scoped>\n",
       "    .dataframe tbody tr th:only-of-type {\n",
       "        vertical-align: middle;\n",
       "    }\n",
       "\n",
       "    .dataframe tbody tr th {\n",
       "        vertical-align: top;\n",
       "    }\n",
       "\n",
       "    .dataframe thead th {\n",
       "        text-align: right;\n",
       "    }\n",
       "</style>\n",
       "<table border=\"1\" class=\"dataframe\">\n",
       "  <thead>\n",
       "    <tr style=\"text-align: right;\">\n",
       "      <th></th>\n",
       "      <th>Отформатированный_номер_телефона</th>\n",
       "    </tr>\n",
       "    <tr>\n",
       "      <th>Спектакль</th>\n",
       "      <th></th>\n",
       "    </tr>\n",
       "  </thead>\n",
       "  <tbody>\n",
       "    <tr>\n",
       "      <th>Кошки</th>\n",
       "      <td>180</td>\n",
       "    </tr>\n",
       "    <tr>\n",
       "      <th>Спящая красавица</th>\n",
       "      <td>175</td>\n",
       "    </tr>\n",
       "    <tr>\n",
       "      <th>Дон Кихот</th>\n",
       "      <td>175</td>\n",
       "    </tr>\n",
       "    <tr>\n",
       "      <th>Кармен</th>\n",
       "      <td>171</td>\n",
       "    </tr>\n",
       "    <tr>\n",
       "      <th>Лебединое озеро</th>\n",
       "      <td>171</td>\n",
       "    </tr>\n",
       "  </tbody>\n",
       "</table>\n",
       "</div>"
      ],
      "text/plain": [
       "                  Отформатированный_номер_телефона\n",
       "Спектакль                                         \n",
       "Кошки                                          180\n",
       "Спящая красавица                               175\n",
       "Дон Кихот                                      175\n",
       "Кармен                                         171\n",
       "Лебединое озеро                                171"
      ]
     },
     "execution_count": 105,
     "metadata": {},
     "output_type": "execute_result"
    }
   ],
   "source": [
    "top_5_perf_with_uniq_phone = new_ticket_data\\\n",
    "                             .groupby('Спектакль')['Отформатированный_номер_телефона']\\\n",
    "                             .nunique()\\\n",
    "                             .sort_values(ascending=False)\\\n",
    "                             .to_frame()\\\n",
    "                             .head(5)\n",
    "\n",
    "top_5_perf_with_uniq_phone"
   ]
  }
 ],
 "metadata": {
  "kernelspec": {
   "display_name": "Python 3",
   "language": "python",
   "name": "python3"
  },
  "language_info": {
   "codemirror_mode": {
    "name": "ipython",
    "version": 3
   },
   "file_extension": ".py",
   "mimetype": "text/x-python",
   "name": "python",
   "nbconvert_exporter": "python",
   "pygments_lexer": "ipython3",
   "version": "3.9.4"
  }
 },
 "nbformat": 4,
 "nbformat_minor": 5
}
